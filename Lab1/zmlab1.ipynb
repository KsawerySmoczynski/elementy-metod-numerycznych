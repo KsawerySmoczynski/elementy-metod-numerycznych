{
 "cells": [
  {
   "cell_type": "markdown",
   "id": "65feca0a-4207-4c51-af5d-0a1828d5b92d",
   "metadata": {},
   "source": [
    "# Błedy i arytmetyka zmiennopozycyjna\n",
    "## Zadania\n",
    "### Zadanie1 \n",
    "Oblicz:\n",
    "* $(0.1+0.2)+0.3$ oraz $0.1+(0.2+0.3)$\n",
    "* $(0.1*0.6)*0.7$ oraz $0.1*(0.6*0.7)$,\n",
    "* $0.1*(0.7-0.6)$ oraz $0.1*0.7-0.1*0.6$\n",
    "\n",
    "Porównaj otrzymane wyniki."
   ]
  },
  {
   "cell_type": "code",
   "execution_count": 5,
   "id": "77f928f1-0afe-4a31-8357-d67cd1e0bc9e",
   "metadata": {},
   "outputs": [
    {
     "data": {
      "text/plain": [
       "(False, 0.6000000000000001, 0.6)"
      ]
     },
     "execution_count": 5,
     "metadata": {},
     "output_type": "execute_result"
    }
   ],
   "source": [
    "a = (.1 + .2) + .3 \n",
    "b = .1 + (.2 +.3)\n",
    "a == b, a, b"
   ]
  },
  {
   "cell_type": "code",
   "execution_count": 6,
   "id": "0921587e-3c49-4681-872a-ec0735ecd554",
   "metadata": {},
   "outputs": [
    {
     "data": {
      "text/plain": [
       "(False, 0.041999999999999996, 0.52)"
      ]
     },
     "execution_count": 6,
     "metadata": {},
     "output_type": "execute_result"
    }
   ],
   "source": [
    "a = (.1 * .6) * .7\n",
    "b = .1 + (.6 * .7)\n",
    "a == b, a, b"
   ]
  },
  {
   "cell_type": "code",
   "execution_count": 8,
   "id": "c929f296-209b-4402-a6f2-2cc85fd5a52b",
   "metadata": {},
   "outputs": [
    {
     "data": {
      "text/plain": [
       "(False, 0.009999999999999998, 0.009999999999999995)"
      ]
     },
     "execution_count": 8,
     "metadata": {},
     "output_type": "execute_result"
    }
   ],
   "source": [
    "a = .1 * (.7 - .6)\n",
    "b = .1 * .7 - .1 * .6\n",
    "a == b, a, b"
   ]
  },
  {
   "attachments": {},
   "cell_type": "markdown",
   "id": "9cc2948f-676a-419d-b555-558748327f15",
   "metadata": {},
   "source": [
    "### Zadanie 2\n",
    "Niech $a=1+eps,b=1+\\frac{eps}{2}$. Które z tych liczb są równe $1$ w arytmetyce zmiennopozycyjnej? Czy liczby $a-1$ i $b-1$ są równe $0$? Czy $\\frac{eps}{2}=0$?"
   ]
  },
  {
   "cell_type": "code",
   "execution_count": 11,
   "id": "6ea30c7c-08bb-4d05-9075-0c308508e989",
   "metadata": {},
   "outputs": [
    {
     "data": {
      "text/plain": [
       "(False,\n",
       " False,\n",
       " False,\n",
       " 1.1920928955078125e-07,\n",
       " 5.960464477539063e-08,\n",
       " 5.960464477539063e-08)"
      ]
     },
     "execution_count": 11,
     "metadata": {},
     "output_type": "execute_result"
    }
   ],
   "source": [
    "import numpy as np\n",
    "machine_eps = np.finfo(np.float32).eps\n",
    "\n",
    "a = 1 + machine_eps\n",
    "b = 1 + machine_eps / 2\n",
    "a - 1 == 0, b - 1 == 0, machine_eps / 2 == 0, a - 1, b - 1, machine_eps / 2"
   ]
  },
  {
   "attachments": {},
   "cell_type": "markdown",
   "id": "c5a99f64-e307-4ef3-9ec7-db4b6285d513",
   "metadata": {},
   "source": [
    "### Zadanie 3\n",
    "Napisz skrypt zliczający sumę argumentów $0.1$ do momentu, gdy otrzymana wartość wyniesie $2$. Wykorzystaj pętlę while i dwa różne warunki stopu:\n",
    "\n",
    "1. $while \\; suma<>2$,\n",
    "2. $ while \\; abs(suma-2)>0.001$.\n",
    "\n",
    "Czy w obu przypadkach otrzymamy to samo?"
   ]
  },
  {
   "cell_type": "code",
   "execution_count": null,
   "id": "7ca84dd1-88eb-45eb-8fa4-b8f4a0db6dee",
   "metadata": {},
   "outputs": [],
   "source": [
    "suma_1 = .1\n",
    "while suma_1 != 2:\n",
    "    suma_1 += .1"
   ]
  },
  {
   "cell_type": "code",
   "execution_count": null,
   "id": "3adfb481-d325-45ea-9192-7664f9387984",
   "metadata": {},
   "outputs": [],
   "source": [
    "suma_2 = .1\n",
    "while abs(suma_2 - 2) > .001:\n",
    "    suma_2 += .1"
   ]
  },
  {
   "attachments": {},
   "cell_type": "markdown",
   "id": "a674f2b5-6648-49d7-9561-3618eb5a9695",
   "metadata": {},
   "source": [
    "### Zadanie 4\n",
    "Zdefinujmy ciąg całek wzorem \n",
    "$$y_n=\\int^1_0 \\frac{x^n}{x+5} dx$$\n",
    "Ciąg ten spełnia zależność rekurencyjną $y_n+5y_{n-1}=\\frac{1}{n}$. Korzystając z tej zależności chcemy obliczyć wartości poszczególnych całek.\n",
    "\n",
    "1. Napisz skrypt, który oblicza przybliżone wartości całek $y_1,\\ldots,y_8$, wykorzystując wzór rekurencyjny $y_n=\\frac{1}{n}-5y_{n-1}$ oraz początkowe przybliżenie całki $y_0\\approx0.182$.\n",
    "2. Napisz skrypt, który oblicza przybliżone wartości całek $y_7,\\ldots,y_0$, wykorzystując wzór rekurencyjny $y_{n-1}=\\frac{1}{5n}-\\frac{1}{5}y_n$oraz początkowe przybliżenie całki  $y_8\\approx 0.019$.\n",
    "3. Porównaj otrzymane w powyższych punktach wyniki i spróbuj wyjaśnić powstałe różnice."
   ]
  },
  {
   "cell_type": "markdown",
   "id": "72083856-b0b2-4601-8785-d5b23d61098e",
   "metadata": {},
   "source": [
    "#### 1."
   ]
  },
  {
   "cell_type": "code",
   "execution_count": 2,
   "id": "d6ac215f-6897-47aa-b5c1-40ec2f3b5f73",
   "metadata": {},
   "outputs": [
    {
     "data": {
      "text/plain": [
       "[0.128,\n",
       " -0.14,\n",
       " 1.0333333333333334,\n",
       " -4.916666666666667,\n",
       " 24.783333333333335,\n",
       " -123.75,\n",
       " 618.8928571428571,\n",
       " -3094.3392857142853,\n",
       " 15471.807539682539]"
      ]
     },
     "execution_count": 2,
     "metadata": {},
     "output_type": "execute_result"
    }
   ],
   "source": [
    "y_0 = 0.128\n",
    "y = [y_0]\n",
    "n = 9\n",
    "for i in range(1, n):\n",
    "    n_i = i+1\n",
    "    y_n = 1/n_i - 5*y[n_i-2]\n",
    "    y.append(y_n)\n",
    "y"
   ]
  },
  {
   "cell_type": "code",
   "execution_count": 4,
   "id": "a994a66e-9040-406c-9f75-4d3f68bd62ca",
   "metadata": {},
   "outputs": [
    {
     "data": {
      "text/plain": [
       "[0.128,\n",
       " -0.14,\n",
       " 1.0333333333333334,\n",
       " -4.916666666666667,\n",
       " 24.783333333333335,\n",
       " -123.75,\n",
       " 618.8928571428571,\n",
       " -3094.3392857142853,\n",
       " 15471.807539682539]"
      ]
     },
     "execution_count": 4,
     "metadata": {},
     "output_type": "execute_result"
    }
   ],
   "source": [
    "n = 9\n",
    "\n",
    "def y_n(n):\n",
    "    if n == 1:\n",
    "        return 0.128\n",
    "    else:\n",
    "        return 1/n - 5*y_n(n-1)\n",
    "\n",
    "y = []\n",
    "for i in range(0,n):\n",
    "    n_i = i+1\n",
    "    y.append(y_n(n_i))   \n",
    "y"
   ]
  },
  {
   "cell_type": "markdown",
   "id": "2af8eb2d-d7f3-4132-9ac5-478694ce4f60",
   "metadata": {},
   "source": [
    "#### 2."
   ]
  },
  {
   "cell_type": "code",
   "execution_count": 5,
   "id": "ba08724a-eb51-418a-ad69-2193281dc28b",
   "metadata": {},
   "outputs": [
    {
     "data": {
      "text/plain": [
       "[0.019,\n",
       " 0.0212,\n",
       " 0.02433142857142857,\n",
       " 0.028467047619047618,\n",
       " 0.034306590476190474,\n",
       " 0.04313868190476191,\n",
       " 0.05803893028571428,\n",
       " 0.08839221394285715,\n",
       " 0.1823215572114286]"
      ]
     },
     "execution_count": 5,
     "metadata": {},
     "output_type": "execute_result"
    }
   ],
   "source": [
    "y_n = 0.019\n",
    "y = [y_n]\n",
    "n = 8\n",
    "while n >= 1:\n",
    "    y_n = 1/(5*n) - (1/5 * y_n)\n",
    "    y.append(y_n)\n",
    "    n -= 1\n",
    "\n",
    "sorted(y)"
   ]
  },
  {
   "cell_type": "markdown",
   "id": "567d82e4-9205-4c18-a57d-74f60e55dc90",
   "metadata": {},
   "source": [
    "#### 3. Odpowiedź"
   ]
  },
  {
   "cell_type": "markdown",
   "id": "08a98168-add6-4aed-a097-f123e00b5d28",
   "metadata": {},
   "source": [
    "a - niestablilne numerycznie rozwiązanie\n",
    "\n",
    "b - stabilne numerycznie rozwiązanie"
   ]
  },
  {
   "cell_type": "markdown",
   "id": "6f277f8f-231b-44cc-bd11-eed72d05fbc4",
   "metadata": {},
   "source": [
    "### Zadanie 5.\n",
    "Dla $x=8^{-1},8^{-2},\\ldots,8^{-10}$ oblicz wartości funkcji:\n",
    "1. $f(x)=\\sqrt{x^2+1}-1$,\n",
    "2. $g(x)=\\frac{x^2}{\\sqrt{x^2+1}-1}$.\n",
    "Porównaj otrzymana wartości.\n"
   ]
  },
  {
   "cell_type": "markdown",
   "id": "72b2ab3d-30d0-4d63-92f0-47940b7db3f6",
   "metadata": {},
   "source": [
    "#### 1. Odpowiedź"
   ]
  },
  {
   "cell_type": "code",
   "execution_count": null,
   "id": "3b43ece9-ab90-494c-9933-18c6785f8bef",
   "metadata": {},
   "outputs": [],
   "source": []
  },
  {
   "cell_type": "markdown",
   "id": "98eb0afe-c92b-4b64-99f6-1a5be6f09d55",
   "metadata": {},
   "source": [
    "#### 2. Odpowiedź"
   ]
  },
  {
   "cell_type": "code",
   "execution_count": null,
   "id": "83f09aa0-8147-4960-ab4d-f165e3e30f33",
   "metadata": {},
   "outputs": [],
   "source": []
  },
  {
   "attachments": {},
   "cell_type": "markdown",
   "id": "d2fdba80-f537-4c3a-b805-6becbc93407b",
   "metadata": {},
   "source": [
    "### Zadanie 5\n",
    "Rozważmy funkcję $f(x)=\\sin(x)$. Pochodną tej funkcji możemy przybliżyć za pomocą ilorazu różnicowego:\n",
    "$$f^{'}(x)\\approx \\frac{\\sin(x+h)-\\sin(x)}{h}$$ \n",
    "dla małych wartości $h$. Dla $h=10^{-n}$ ($n=1,\\ldots,16)$ i $x=1$ wyznacz błąd tego przybliżenia. \n",
    "\n",
    "Dla jakiej wartości $h$ otrzymane przybliżenie jest najlepsze? \n",
    "\n",
    "Zilustruj wyniki na wykresie, na którym wartości błędu będą prezentowane w skali logarytmicznej.\n"
   ]
  },
  {
   "cell_type": "code",
   "execution_count": null,
   "id": "1d43d063-9c48-40b6-9ebd-35f05ab2ffaf",
   "metadata": {},
   "outputs": [],
   "source": []
  },
  {
   "attachments": {},
   "cell_type": "markdown",
   "id": "915ccb12-2b13-4d33-8d5a-684b8376eafb",
   "metadata": {},
   "source": [
    "## Zadanie 6 (* 2 pkt)\n",
    "Niech $f(x)=\\cos (x)-1=-2\\sin^2(\\frac{x}{2})$. Oblicz wartość podanej funkcji stosując oba podane wzory dla $1000$ wartości $x$ równomiernie rozlożonych w $ (-10^{-7},10^{-7})$ i zilustruj otrzymane wyniki na wykresie. \n",
    "\n",
    "Który wzór wydaje się lepszy? Spróbuj wyjaśnić, dlaczego tak jest.\n",
    "\n",
    "Oba wykresy powinny być narysowane w jednym oknie i rozróżnialne (poprzez zastosowanie różnych kolorów lub stylów linii). Ponadto, proszę umieścić przy wykresach legendę."
   ]
  },
  {
   "cell_type": "code",
   "execution_count": 58,
   "id": "f07a8dac-ea7f-48a5-b0c1-09a280053436",
   "metadata": {},
   "outputs": [],
   "source": [
    "x = np.linspace(-1e-7, 1e-7, int(1e3))\n",
    "f_1 = lambda x: np.cos(x) - 1\n",
    "f_2 = lambda x: -2 * np.sin(x/2)**2"
   ]
  },
  {
   "cell_type": "code",
   "execution_count": 59,
   "id": "5aadbb08-dfd2-4526-ae0d-b0a0df351e16",
   "metadata": {},
   "outputs": [
    {
     "data": {
      "image/png": "[encoded data removed]",
      "text/plain": [
       "<Figure size 640x480 with 1 Axes>"
      ]
     },
     "metadata": {},
     "output_type": "display_data"
    }
   ],
   "source": [
    "import inspect\n",
    "import matplotlib.pyplot as plt\n",
    "\n",
    "fig, ax = plt.subplots()\n",
    "ax.plot(x, f_1(x), color=\"red\", alpha=0.8, label=inspect.getsource(f_1))\n",
    "ax.plot(x, f_2(x), color=\"blue\", alpha=0.8, label=inspect.getsource(f_2))\n",
    "plt.legend(title='Parameter where:')\n",
    "plt.show()"
   ]
  },
  {
   "cell_type": "code",
   "execution_count": 60,
   "id": "5d00eb5e-7d1f-43e5-ac7f-d9cbbb2146f2",
   "metadata": {},
   "outputs": [
    {
     "name": "stdout",
     "output_type": "stream",
     "text": [
      "sys.float_info(max=1.7976931348623157e+308, max_exp=1024, max_10_exp=308, min=2.2250738585072014e-308, min_exp=-1021, min_10_exp=-307, dig=15, mant_dig=53, epsilon=2.220446049250313e-16, radix=2, rounds=1)\n"
     ]
    }
   ],
   "source": [
    "# Get machine epsilon\n",
    "import sys\n",
    "print(sys.float_info)"
   ]
  },
  {
   "cell_type": "markdown",
   "id": "118dd6e0-2947-4812-825e-72766ce830a4",
   "metadata": {},
   "source": [
    "### Zadanie 7 (* 2 pkt)\n",
    "\n",
    "Rozważmy wielomian $w(x)=(x-1)^4=x^4-4x^3+6x^2-4x+1$. Oblicz stosując oba podane wzory wartość tego wielomianu dla $100$ wartości $x$ równomiernie rozłożonych w przedziale $(0.9999,1.0001)$ i zilustruj otrzymane wyniki na wykresie. \n",
    "\n",
    "Który wzór wydaje się lepszy? Spróbuj wyjaśnić, dlaczego tak jest.\n",
    "\n",
    "Oba wykresy powinny być narysowane w jednym oknie i rozróżnialne (poprzez zastosowanie różnych kolorów lub stylów linii). Ponadto, proszę umieścić przy wykresach legendę."
   ]
  },
  {
   "cell_type": "code",
   "execution_count": null,
   "id": "7fa252bd-8141-450b-a24e-ec0ca52b1dba",
   "metadata": {},
   "outputs": [],
   "source": []
  },
  {
   "cell_type": "markdown",
   "id": "ab266ed7-1f1f-4a89-9981-67c74f9f2df8",
   "metadata": {},
   "source": [
    "# Algorytm Hornera\n",
    "Zauważmy, że wielomian o naturalnej postaci:\n",
    "$$w(x)=\\sum_{i=0}^na_ix^i$$\n",
    "można także zapisać jako:\n",
    "$$w(x)=(\\ldots((a_nx+a_{n-1})x+a_{n-2})x+\\ldots+a_1)x+a_0.$$\n",
    "Z postaci tej wynika sposób obliczania wartości wielomianu w punkcie zwany algorytmem Hornera. Załóżmy, że chcemy obliczyć wartość wielomianu $w(x)$ w punkcie $x_0$. Definiujemy:\n",
    "\\begin{eqnarray}\n",
    "\tw_n&=&a_n,\\nonumber\\\\\n",
    "\tw_i&=&w_{i+1}x_0+a_i,\\; \\text{dla}\\;i=n-1,n-2,\\ldots,0\\nonumber\n",
    "\\end{eqnarray}\n",
    "Wtedy $w(x_0)=w_0$. Obliczając wartość wielomianu w punkcie w ten sposób ograniczamy liczbę mnożeń. Stosując algorytm Hornera możemy także obliczyć wynik dzielenia wielomianu $w(x)$ przez dwumian $x-c$. Jeśli bowiem\n",
    "$$\\sum_{i=0}^na_ix^i=(\\sum_{i=0}^{n-1}b_{i+1}x^i)(x-c)+b_0,$$\n",
    "to porównując współczynniki przy odpowiednich potęgach otrzymujemy zależność $a_i=b_i-b_{i+1}c$ dla $i=0,\\ldots,n-1$ i $a_n=b_n$. Oznacza to, że $b_i=w_i$ dla $i=0,\\ldots,n$.\n",
    "\n",
    "Kolejnym zastosowaniem algorytmu Hornera jest obliczanie wartości pochodnych znormalizowanych w punkcie $x_0$, tzn. wartości:\n",
    "$$\\frac{w^{(j)}(x_0)}{j!} \\text{ dla } j=0,1,\\ldots,n.$$\n",
    "Zapiszmy wielomian $w(x)$ w postaci:\n",
    "$$w(x)=(x-x_0)^jv(x)+r(x),$$\n",
    "gdzie $r(x)$ jest wielomianem o stopniu mniejszym od $j$. Różniczkując to wyrażenie $j$ razy i obliczając jego wartość w punkcie $x_0$ otrzymujemy równość:\n",
    "$$w^{(j)}(x_0)=j!v(x_0).$$\n",
    "\n",
    "Zatem chcąc obliczyć wartość $j$-tej pochodnej znormalizowanej wielomianu wystarczy zastosować algorytm Hornera $j$ razy, żeby podzielić kolejno otrzymywane ilorazy przez $x-x_0$, a następnie obliczyć wartość otrzymanego wielomianu w punkcie $x_0$.\n",
    "\n",
    "Ostatnim omawianym zastosowaniem algorytmu Hornera będzie zamiana liczby zapisanej w systemie pozycyjnym o podstawie $p$ ($p\\neq 10$) na zapis w systemie dziesiętnym. Rozważmy liczbę zapisaną w systemie pozycyjnym o podstawie $p$:\n",
    "$$c_nc_{n-1}\\ldots c_1c_0 \\;_{(p)}=c_np^n+c_{n-1}p^{n-1}+\\ldots+c_1p+c_0.$$\n",
    "Zatem chcąc obliczyć wartość tej liczby w systemie dziesiętnym wystarczy obliczyć wartość wielomianu $w(x)=\\sum_{i=0}^nc_ix^i$ w punkcie $p$.\\\\\n",
    "Wielomian możemy też zapisać w tzw. postaci Newtona:\n",
    "\\begin{align*}\n",
    "\tw(x)= \\sum_{k=0}^n b_k\\prod_{j=0}^{k-1}(x-x_j)=b_0+b_1(x-x_0)+b_2(x-x_0)(x-x_1)+\\ldots+b_n(x-x_0)\\cdot\\ldots\\cdot (x-x_{n-1})\n",
    "\\end{align*}\n",
    "Mając dany wielomian w tej postaci możemy w łatwy sposób obliczyć jego wartość w punkcie $s$ korzystając z uogólnionego schematu Hornera:\n",
    "\\begin{eqnarray*}\n",
    "\tp_n&=&b_n\\\\\n",
    "\tp_i&=&p_{i+1}( s-x_i)+b_i, \\text{ dla }i=n-1,n-2,\\ldots,0\n",
    "\\end{eqnarray*}\n"
   ]
  },
  {
   "attachments": {},
   "cell_type": "markdown",
   "id": "cf365450-4f85-4bef-9292-4a2746ddefd8",
   "metadata": {},
   "source": [
    "### Zadanie 1\n",
    " Stosując polecenie *horner* oblicz wartość wielomianu $w(x)$ w punkcie $x_0$ dla:\t\n",
    "* $w(x)=x^3-2x^2+3x-4$, $x_0=1$,\n",
    "* $w(x)=8x^3+5x^2+3x+1$, $x_0=-3$."
   ]
  },
  {
   "cell_type": "code",
   "execution_count": 65,
   "id": "01c94891-1510-4798-8ec3-a15a7f8e1ab4",
   "metadata": {},
   "outputs": [
    {
     "data": {
      "text/plain": [
       "-2.0"
      ]
     },
     "execution_count": 65,
     "metadata": {},
     "output_type": "execute_result"
    }
   ],
   "source": [
    "# a.\n",
    "x0 = 1\n",
    "c = np.array([-4, 3, -2, 1])\n",
    "np.polynomial.polynomial.polyval(1, c)"
   ]
  },
  {
   "cell_type": "code",
   "execution_count": 66,
   "id": "489c84b2-d531-4b50-a202-54c271f97e0d",
   "metadata": {},
   "outputs": [
    {
     "data": {
      "text/plain": [
       "17.0"
      ]
     },
     "execution_count": 66,
     "metadata": {},
     "output_type": "execute_result"
    }
   ],
   "source": [
    "# b.\n",
    "x0 = -3\n",
    "c = np.array([1, 3, 5, 8])\n",
    "np.polynomial.polynomial.polyval(1, c)"
   ]
  },
  {
   "cell_type": "code",
   "execution_count": 68,
   "id": "22149012-4b8c-4a6e-b502-0ca0e0db7c1a",
   "metadata": {},
   "outputs": [
    {
     "data": {
      "text/plain": [
       "(array([-12.,   5.]), array([29.]))"
      ]
     },
     "execution_count": 68,
     "metadata": {},
     "output_type": "execute_result"
    }
   ],
   "source": [
    "# define the polynomials\n",
    "# p(x) = 5(x**2) + (-2)x +5\n",
    "px = (5, -2, 5)\n",
    " \n",
    "# g(x) = x +2\n",
    "gx = (2, 1, 0)\n",
    " \n",
    "# divide the polynomials\n",
    "qx, rx = np.polynomial.polynomial.polydiv(px, gx)\n",
    "qx, rx"
   ]
  },
  {
   "cell_type": "markdown",
   "id": "bf9aa854-5e88-4c2d-a955-bf02ab55a32d",
   "metadata": {},
   "source": [
    "### Zadanie 2.\n",
    "Stosując polecenie *pdiv* wyznacz wielomian będacy wynikiem dzielenia wielomianu $w(x)$ przez dwumian $d(x)$:\n",
    "1. $w(x)=2x^3+5x^2-4x+11$, $d(x)=x-2$,\n",
    "2. $w(x)=x^4-9x^2+3x-5$, $d(x)=x+7$.\n"
   ]
  },
  {
   "cell_type": "code",
   "execution_count": null,
   "id": "4b8d2ec4-b4a4-4b58-b2d7-aea3919bf0eb",
   "metadata": {},
   "outputs": [],
   "source": []
  },
  {
   "cell_type": "markdown",
   "id": "b18ddd4a-db51-4249-820c-2ca56d4b6481",
   "metadata": {},
   "source": [
    "### Zadanie 3.\n",
    "Używając poleceń *horner* i *pdiv*, znajdź wszystkie pochodne znormalizowane  wielomianu $w(x)$ w punkcie $x_0$:\n",
    "* $w(x)=x^3+2x^2+4x+8$, $x_0=-2$,\n",
    "* $w(x)=x^4-x^3+3x-1$, $x_0=2$"
   ]
  },
  {
   "cell_type": "code",
   "execution_count": null,
   "id": "a8bb6b09-851f-4f88-a8b1-615351211396",
   "metadata": {},
   "outputs": [],
   "source": []
  },
  {
   "cell_type": "markdown",
   "id": "c74c027b-451c-4590-b7da-cfd92d2c41d5",
   "metadata": {},
   "source": [
    "### Zadanie 4 (* 3 pkt)\n",
    "Napisz funkcję, która dla danej liczby $p$ ($2\\leq p \\leq 9$) i liczby zapisanej w systemie pozycyjnym o podstawie $p$ oblicza jej wartość w systemie dziesiętnym wykorzystując algorytm Hornera.  Zakładamy, że dane wejściowe do funkcji są podane w postaci pary $(c,p)$, gdzie $p$ jest liczbą naturalną z zakresu od $2$ do $9$, a $c$ jest wektorem kolejnych cyfr w zapisie pozycyjnym danej liczby, przy czym pierwsza współrzędna odpowiada współczynnikowi przy potędze liczby $p$ o wykładniku $0$.  \n",
    "\n",
    "Przetestuj tę funkcję na poniższych przykładach:\n",
    "\n",
    "1. $([5,4,3,2,1],6)$,\n",
    "2. $([8,5,3,2,1,1],9)$,\n",
    "3. $([0,1,0,1,1,0,1],2)$.\n",
    "\n",
    "Uwaga! Proszę nie używać wbudowanej funkcji \\emph{horner}."
   ]
  },
  {
   "cell_type": "code",
   "execution_count": null,
   "id": "88130c42-ae2d-4019-85df-d89d37d6bf5e",
   "metadata": {},
   "outputs": [],
   "source": []
  },
  {
   "cell_type": "markdown",
   "id": "eddc3dba-d653-4e18-ab5b-1dacbb5ea031",
   "metadata": {},
   "source": [
    "### Zadanie 5 (* 4 pkt) \n",
    "Napisz funkcję, która korzystając z uogólnionego schematu Hornera dla wektora $n$ różnych punktów $x=[x_0,x_1,\\ldots,x_{n-1}]$, wektora $b=[b_0,b_1,\\ldots,b_n]$  współczynników wielomianu wielomianu $w$ danego w postaci Newtona i wektora punktów $s=[s_1,s_2,\\ldots,s_k]$ zwraca wektor wartości tego wielomianu interpolacyjnego w punktach $s_1,s_2,\\ldots,s_k$. \n",
    "\n",
    "Przetestuj tę funkcję dla następujących danych:\n",
    "1. $x=[2,4,6,8,10]$, $b=[-1,1,2,3,-4,1]$, $s=[3,5,7,9]$,\n",
    "2. $x=[0,0,-1,-1,-1,-2]$, $b=[3,-3,3,-3,2,0,2]$, $s=[-1,-2,0,-1.5,-2.75,5]$."
   ]
  },
  {
   "cell_type": "code",
   "execution_count": null,
   "id": "32de1f7d-cdf0-4f43-b219-dca13131a57c",
   "metadata": {},
   "outputs": [],
   "source": []
  }
 ],
 "metadata": {
  "kernelspec": {
   "display_name": "Python 3 (ipykernel)",
   "language": "python",
   "name": "python3"
  },
  "language_info": {
   "codemirror_mode": {
    "name": "ipython",
    "version": 3
   },
   "file_extension": ".py",
   "mimetype": "text/x-python",
   "name": "python",
   "nbconvert_exporter": "python",
   "pygments_lexer": "ipython3",
   "version": "3.10.9"
  }
 },
 "nbformat": 4,
 "nbformat_minor": 5
}
