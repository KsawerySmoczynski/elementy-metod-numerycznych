{
 "cells": [
  {
   "cell_type": "markdown",
   "id": "ae8f1f2c-996d-4943-803a-5d3869143aa3",
   "metadata": {},
   "source": [
    "# Błedy i arytmetyka zmiennopozycyjna\n",
    "\n",
    "Całość kodu można znaleźć w formie online pod linkiem [https://github.com/KsawerySmoczynski/elementy-metod-numerycznych](https://github.com/KsawerySmoczynski/elementy-metod-numerycznych).\n",
    "Jest on również dostępny w google collab"
   ]
  },
  {
   "cell_type": "code",
   "execution_count": null,
   "id": "8ab54296-47d5-4f25-8b64-ab90232112ed",
   "metadata": {},
   "outputs": [],
   "source": [
    "# Żeby odpalić notebook na google colab będziemy musieli zainstalować potrzebne pakiety\n",
    "import subprocess\n",
    "import sys\n",
    "import os\n",
    "\n",
    "REQUIRED_PACKAGES = [\"numpy\", \"matplotlib\", \"sympy\"]\n",
    "RUN_IN_COLAB = \"COLAB_JUPYTER_IP\" in os.environ\n",
    "\n",
    "def install(packages):\n",
    "    subprocess.check_call([sys.executable, \"-m\", \"pip\", \"install\", *packages])\n",
    "\n",
    "if RUN_IN_COLAB:\n",
    "    install(REQUIRED_PACKAGES)"
   ]
  },
  {
   "cell_type": "markdown",
   "id": "b31a98a7-9e2d-4d72-ba98-58d2bfd12e0e",
   "metadata": {},
   "source": [
    "## Zadania\n",
    "### Zadanie1 \n",
    "Oblicz:\n",
    "* $(0.1+0.2)+0.3$ oraz $0.1+(0.2+0.3)$\n",
    "* $(0.1*0.6)*0.7$ oraz $0.1*(0.6*0.7)$,\n",
    "* $0.1*(0.7-0.6)$ oraz $0.1*0.7-0.1*0.6$\n",
    "\n",
    "Porównaj otrzymane wyniki."
   ]
  },
  {
   "cell_type": "code",
   "execution_count": 1,
   "id": "77f928f1-0afe-4a31-8357-d67cd1e0bc9e",
   "metadata": {},
   "outputs": [
    {
     "data": {
      "text/plain": [
       "(False, 0.6000000000000001, 0.6)"
      ]
     },
     "execution_count": 1,
     "metadata": {},
     "output_type": "execute_result"
    }
   ],
   "source": [
    "a = (.1 + .2) + .3 \n",
    "b = .1 + (.2 +.3)\n",
    "a == b, a, b"
   ]
  },
  {
   "cell_type": "code",
   "execution_count": 2,
   "id": "0921587e-3c49-4681-872a-ec0735ecd554",
   "metadata": {},
   "outputs": [
    {
     "data": {
      "text/plain": [
       "(False, 0.041999999999999996, 0.52)"
      ]
     },
     "execution_count": 2,
     "metadata": {},
     "output_type": "execute_result"
    }
   ],
   "source": [
    "a = (.1 * .6) * .7\n",
    "b = .1 + (.6 * .7)\n",
    "a == b, a, b"
   ]
  },
  {
   "cell_type": "code",
   "execution_count": 3,
   "id": "c929f296-209b-4402-a6f2-2cc85fd5a52b",
   "metadata": {},
   "outputs": [
    {
     "data": {
      "text/plain": [
       "(False, 0.009999999999999998, 0.009999999999999995)"
      ]
     },
     "execution_count": 3,
     "metadata": {},
     "output_type": "execute_result"
    }
   ],
   "source": [
    "a = .1 * (.7 - .6)\n",
    "b = .1 * .7 - .1 * .6\n",
    "a == b, a, b"
   ]
  },
  {
   "attachments": {},
   "cell_type": "markdown",
   "id": "9cc2948f-676a-419d-b555-558748327f15",
   "metadata": {},
   "source": [
    "### Zadanie 2\n",
    "Niech $a=1+eps,b=1+\\frac{eps}{2}$. \n",
    "\n",
    "Które z tych liczb są równe $1$ w arytmetyce zmiennopozycyjnej? \n",
    "\n",
    "Czy liczby $a-1$ i $b-1$ są równe $0$? Czy $\\frac{eps}{2}=0$?"
   ]
  },
  {
   "cell_type": "markdown",
   "id": "c8a88e4c-6900-446b-8ed2-6ab2e786b844",
   "metadata": {},
   "source": [
    "Najpierw uzyskajmy epsilon maszynowy:"
   ]
  },
  {
   "cell_type": "code",
   "execution_count": 8,
   "id": "4610426e-3646-4139-974e-cdcf9bfb0c27",
   "metadata": {},
   "outputs": [
    {
     "data": {
      "text/plain": [
       "2.220446049250313e-16"
      ]
     },
     "execution_count": 8,
     "metadata": {},
     "output_type": "execute_result"
    }
   ],
   "source": [
    "def machineEpsilon(func=float):\n",
    "    machine_epsilon = func(1)\n",
    "    ONE = func(1)\n",
    "    while ONE+machine_epsilon != ONE:\n",
    "        machine_epsilon_last = machine_epsilon\n",
    "        machine_epsilon = func(machine_epsilon) / func(2)\n",
    "    return machine_epsilon_last\n",
    "\n",
    "machineEpsilon(float)"
   ]
  },
  {
   "cell_type": "code",
   "execution_count": 9,
   "id": "fd9364d9-ab7c-4883-841e-149bd8fe0d77",
   "metadata": {},
   "outputs": [
    {
     "data": {
      "text/plain": [
       "2.220446049250313e-16"
      ]
     },
     "execution_count": 9,
     "metadata": {},
     "output_type": "execute_result"
    }
   ],
   "source": [
    "import sys\n",
    "sys.float_info.epsilon"
   ]
  },
  {
   "cell_type": "markdown",
   "id": "b625f350-00dc-4fe4-a7b4-1df702021d41",
   "metadata": {},
   "source": [
    "Jak widać uzyskany przez nas epsilon jest równy temu z informacji systemowej"
   ]
  },
  {
   "cell_type": "code",
   "execution_count": 10,
   "id": "f044d457-d54a-4c67-b58e-eff3376cb63e",
   "metadata": {},
   "outputs": [
    {
     "data": {
      "text/plain": [
       "2.220446049250313e-16"
      ]
     },
     "execution_count": 10,
     "metadata": {},
     "output_type": "execute_result"
    }
   ],
   "source": [
    "import numpy as np\n",
    "\n",
    "np.finfo(np.float64).eps"
   ]
  },
  {
   "cell_type": "markdown",
   "id": "d5c1bc65-53e2-4279-b957-8bf4b42e553f",
   "metadata": {},
   "source": [
    "Który jest równy temu zapenianemu przez pakiet do obliczeń numerycznych na wektorach - `numpy`"
   ]
  },
  {
   "cell_type": "code",
   "execution_count": 11,
   "id": "fa916664-b514-4819-822f-c7dd111c6677",
   "metadata": {},
   "outputs": [],
   "source": [
    "machine_eps = np.finfo(np.float64).eps\n",
    "\n",
    "a = 1. + machine_eps\n",
    "b = 1. + machine_eps / 2"
   ]
  },
  {
   "cell_type": "code",
   "execution_count": 12,
   "id": "a3a81bfd-65c8-431e-865b-b70d038b83d7",
   "metadata": {},
   "outputs": [
    {
     "data": {
      "text/plain": [
       "(False, True)"
      ]
     },
     "execution_count": 12,
     "metadata": {},
     "output_type": "execute_result"
    }
   ],
   "source": [
    "a == 1, b == 1"
   ]
  },
  {
   "cell_type": "markdown",
   "id": "b8d34c88-350f-477e-852d-e47b4669164a",
   "metadata": {},
   "source": [
    "Odpowiedź: Tylko druga liczba (`b`) jest równa 1 w arytmetyce zmiennopozycyjnej."
   ]
  },
  {
   "cell_type": "code",
   "execution_count": 13,
   "id": "f76c2a34-affb-41f0-b047-ffcb9594616b",
   "metadata": {},
   "outputs": [
    {
     "data": {
      "text/plain": [
       "(False, True)"
      ]
     },
     "execution_count": 13,
     "metadata": {},
     "output_type": "execute_result"
    }
   ],
   "source": [
    "a - 1 == 0, b - 1 == 0"
   ]
  },
  {
   "cell_type": "markdown",
   "id": "b2f1fb13-4104-46e4-a3f0-1714272a1686",
   "metadata": {},
   "source": [
    "Odpowiedź: Odpowiednio $a - 1 \\neq 0$ oraz $b - 1 = 0$"
   ]
  },
  {
   "cell_type": "code",
   "execution_count": 14,
   "id": "2c3f12d0-208a-4766-a376-45269784b846",
   "metadata": {},
   "outputs": [
    {
     "data": {
      "text/plain": [
       "False"
      ]
     },
     "execution_count": 14,
     "metadata": {},
     "output_type": "execute_result"
    }
   ],
   "source": [
    "machine_eps / 2 == 0"
   ]
  },
  {
   "cell_type": "markdown",
   "id": "7782dc4c-7dda-478f-9ea5-bfacc24e58ac",
   "metadata": {},
   "source": [
    "Odpowiedź: Nie ponieważ epsilon maszynowy nie jest najmniejszą dodatnią reprezentowalną liczbą w systemie 32 bitowym, tylko różnicą między najbliższą reprezentowalną liczbą względem jedynki, a jedynką."
   ]
  },
  {
   "attachments": {},
   "cell_type": "markdown",
   "id": "c5a99f64-e307-4ef3-9ec7-db4b6285d513",
   "metadata": {},
   "source": [
    "### Zadanie 3\n",
    "Napisz skrypt zliczający sumę argumentów $0.1$ do momentu, gdy otrzymana wartość wyniesie $2$. Wykorzystaj pętlę while i dwa różne warunki stopu:\n",
    "\n",
    "1. $while \\; suma<>2$,\n",
    "2. $ while \\; abs(suma-2)>0.001$.\n",
    "\n",
    "Czy w obu przypadkach otrzymamy to samo?"
   ]
  },
  {
   "cell_type": "code",
   "execution_count": 15,
   "id": "7ca84dd1-88eb-45eb-8fa4-b8f4a0db6dee",
   "metadata": {},
   "outputs": [],
   "source": [
    "# Uwaga pętla nieskończona\n",
    "suma_1 = .1\n",
    "while suma_1 != 2:\n",
    "    suma_1 += .1"
   ]
  },
  {
   "cell_type": "code",
   "execution_count": 16,
   "id": "3adfb481-d325-45ea-9192-7664f9387984",
   "metadata": {},
   "outputs": [
    {
     "data": {
      "text/plain": [
       "2.0000000000000004"
      ]
     },
     "execution_count": 16,
     "metadata": {},
     "output_type": "execute_result"
    }
   ],
   "source": [
    "suma_2 = .1\n",
    "while abs(suma_2 - 2) > .001:\n",
    "    suma_2 += .1\n",
    "suma_2"
   ]
  },
  {
   "cell_type": "markdown",
   "id": "ba00f9df-d9c3-4911-ae8f-6f2b40deb25e",
   "metadata": {},
   "source": [
    "Odpowiedź: Nie otrzymamy tego samego ponieważ `suma_1` nigdy nie będzie równać się dokładnie 2 w związku z czym pierwsza pętla nigdy nie zakończy swojego działania."
   ]
  },
  {
   "attachments": {},
   "cell_type": "markdown",
   "id": "a674f2b5-6648-49d7-9561-3618eb5a9695",
   "metadata": {},
   "source": [
    "### Zadanie 4\n",
    "Zdefinujmy ciąg całek wzorem \n",
    "$$y_n=\\int^1_0 \\frac{x^n}{x+5} dx$$\n",
    "Ciąg ten spełnia zależność rekurencyjną $y_n+5y_{n-1}=\\frac{1}{n}$. Korzystając z tej zależności chcemy obliczyć wartości poszczególnych całek.\n",
    "\n",
    "1. Napisz skrypt, który oblicza przybliżone wartości całek $y_1,\\ldots,y_8$, wykorzystując wzór rekurencyjny $y_n=\\frac{1}{n}-5y_{n-1}$ oraz początkowe przybliżenie całki $y_0\\approx0.182$.\n",
    "2. Napisz skrypt, który oblicza przybliżone wartości całek $y_7,\\ldots,y_0$, wykorzystując wzór rekurencyjny $y_{n-1}=\\frac{1}{5n}-\\frac{1}{5}y_n$oraz początkowe przybliżenie całki  $y_8\\approx 0.019$.\n",
    "3. Porównaj otrzymane w powyższych punktach wyniki i spróbuj wyjaśnić powstałe różnice."
   ]
  },
  {
   "cell_type": "markdown",
   "id": "72083856-b0b2-4601-8785-d5b23d61098e",
   "metadata": {},
   "source": [
    "#### 1."
   ]
  },
  {
   "cell_type": "code",
   "execution_count": 17,
   "id": "d6ac215f-6897-47aa-b5c1-40ec2f3b5f73",
   "metadata": {},
   "outputs": [
    {
     "data": {
      "text/plain": [
       "[0.128,\n",
       " -0.14,\n",
       " 1.0333333333333334,\n",
       " -4.916666666666667,\n",
       " 24.783333333333335,\n",
       " -123.75,\n",
       " 618.8928571428571,\n",
       " -3094.3392857142853,\n",
       " 15471.807539682539]"
      ]
     },
     "execution_count": 17,
     "metadata": {},
     "output_type": "execute_result"
    }
   ],
   "source": [
    "# Sekwencyjna wersja\n",
    "y_0 = 0.128\n",
    "y = [y_0]\n",
    "n = 9\n",
    "for i in range(1, n):\n",
    "    n_i = i+1\n",
    "    y_n = 1/n_i - 5*y[n_i-2] # listy są indeksowane od 0 dlatego odejmujemy 2, a nie 1\n",
    "    y.append(y_n)\n",
    "y"
   ]
  },
  {
   "cell_type": "code",
   "execution_count": 10,
   "id": "509240dc-616d-440e-9273-ece5c1b09268",
   "metadata": {},
   "outputs": [],
   "source": [
    "# Wersja rekurencyjna\n",
    "from functools import lru_cache # Żeby nie przeliczać od nowa wartości dla tych samych wyrazów użyjemy cacheowania\n",
    "# w ten sposób po przeliczeniu dla n-tego wyrazu zapamiętujemy jego wartości i odczytujemy z pamięci dla n+1 wyrazu\n",
    "# nie wpływa to na wyniki tylko czas wykonywania algorytmu\n",
    "\n",
    "@lru_cache\n",
    "def y_n(n):\n",
    "    if n == 1:\n",
    "        return 0.128\n",
    "    else:\n",
    "        return 1/n - 5*y_n(n-1)"
   ]
  },
  {
   "cell_type": "code",
   "execution_count": 11,
   "id": "c631b5e5-c8a9-4d7f-89ab-87d3105f824d",
   "metadata": {},
   "outputs": [
    {
     "data": {
      "text/plain": [
       "[0.128,\n",
       " -0.14,\n",
       " 1.0333333333333334,\n",
       " -4.916666666666667,\n",
       " 24.783333333333335,\n",
       " -123.75,\n",
       " 618.8928571428571,\n",
       " -3094.3392857142853,\n",
       " 15471.807539682539]"
      ]
     },
     "execution_count": 11,
     "metadata": {},
     "output_type": "execute_result"
    }
   ],
   "source": [
    "n = 9\n",
    "\n",
    "y = []\n",
    "for i in range(0,n):\n",
    "    n_i = i+1\n",
    "    y.append(y_n(n_i))   \n",
    "y"
   ]
  },
  {
   "cell_type": "markdown",
   "id": "2af8eb2d-d7f3-4132-9ac5-478694ce4f60",
   "metadata": {},
   "source": [
    "#### 2."
   ]
  },
  {
   "cell_type": "code",
   "execution_count": 13,
   "id": "7a9716f1-d08e-44bd-b7f9-43bfdae3ac9f",
   "metadata": {},
   "outputs": [],
   "source": [
    "@lru_cache\n",
    "def y_n(n):\n",
    "    if n == 9:\n",
    "        return 0.019\n",
    "    elif n < 9:\n",
    "        return 1/(5*n) - (1/5 * y_n(n+1))\n",
    "    else:\n",
    "        raise NotImplementedError(\"Algorithm defined up to 9th term\")"
   ]
  },
  {
   "cell_type": "code",
   "execution_count": 14,
   "id": "0219b35b-13bb-47de-90e6-fd3e775aa992",
   "metadata": {},
   "outputs": [
    {
     "data": {
      "text/plain": [
       "[0.1823215572114286,\n",
       " 0.08839221394285715,\n",
       " 0.05803893028571428,\n",
       " 0.04313868190476191,\n",
       " 0.034306590476190474,\n",
       " 0.028467047619047618,\n",
       " 0.02433142857142857,\n",
       " 0.0212,\n",
       " 0.019]"
      ]
     },
     "execution_count": 14,
     "metadata": {},
     "output_type": "execute_result"
    }
   ],
   "source": [
    "y = []\n",
    "n = 9\n",
    "while n >= 1:\n",
    "    y.append(y_n(n))\n",
    "    n -= 1\n",
    "\n",
    "list(reversed(y))"
   ]
  },
  {
   "cell_type": "markdown",
   "id": "567d82e4-9205-4c18-a57d-74f60e55dc90",
   "metadata": {},
   "source": [
    "#### 3. Odpowiedź"
   ]
  },
  {
   "cell_type": "markdown",
   "id": "08a98168-add6-4aed-a097-f123e00b5d28",
   "metadata": {},
   "source": [
    "a - niestablilne numerycznie rozwiązanie - każdy następny wyraz multiplikuje błąd uzyskany w poprzednim\n",
    "\n",
    "b - stabilne numerycznie rozwiązanie - każdy poprzedni wyraz powoduje dzielenie błędu "
   ]
  },
  {
   "cell_type": "markdown",
   "id": "6f277f8f-231b-44cc-bd11-eed72d05fbc4",
   "metadata": {},
   "source": [
    "### Zadanie 5.\n",
    "Dla $x=8^{-1},8^{-2},\\ldots,8^{-10}$ oblicz wartości funkcji:\n",
    "1. $f(x)=\\sqrt{x^2+1}-1$,\n",
    "2. $g(x)=\\frac{x^2}{\\sqrt{x^2+1}-1}$.\n",
    "\n",
    "Porównaj otrzymana wartości.\n"
   ]
  },
  {
   "cell_type": "code",
   "execution_count": 21,
   "id": "3b43ece9-ab90-494c-9933-18c6785f8bef",
   "metadata": {},
   "outputs": [
    {
     "data": {
      "text/plain": [
       "array([1.25000000e-01, 1.56250000e-02, 1.95312500e-03, 2.44140625e-04,\n",
       "       3.05175781e-05, 3.81469727e-06, 4.76837158e-07, 5.96046448e-08,\n",
       "       7.45058060e-09, 9.31322575e-10])"
      ]
     },
     "execution_count": 21,
     "metadata": {},
     "output_type": "execute_result"
    }
   ],
   "source": [
    "x = 1 / (8 ** np.arange(1,11))\n",
    "x"
   ]
  },
  {
   "cell_type": "code",
   "execution_count": 22,
   "id": "bd604682-4022-438c-a623-4d8e10752be2",
   "metadata": {},
   "outputs": [
    {
     "data": {
      "text/plain": [
       "array([7.78221854e-03, 1.22062863e-04, 1.90734681e-06, 2.98023219e-08,\n",
       "       4.65661287e-10, 7.27595761e-12, 1.13686838e-13, 1.77635684e-15,\n",
       "       0.00000000e+00, 0.00000000e+00])"
      ]
     },
     "execution_count": 22,
     "metadata": {},
     "output_type": "execute_result"
    }
   ],
   "source": [
    "# 1.\n",
    "f = lambda x: np.sqrt(x**2 + 1) - 1\n",
    "f(x)"
   ]
  },
  {
   "cell_type": "code",
   "execution_count": 23,
   "id": "e65b6506-7ab5-48c9-99b4-a1b91ad3a1d5",
   "metadata": {},
   "outputs": [
    {
     "name": "stderr",
     "output_type": "stream",
     "text": [
      "/var/folders/j_/gy0508_n2w36wpr12gx3tz2m0000gn/T/ipykernel_4169/3292143112.py:2: RuntimeWarning: divide by zero encountered in divide\n",
      "  g = lambda x: x**2 / (np.sqrt(x**2 + 1) - 1)\n"
     ]
    },
    {
     "data": {
      "text/plain": [
       "array([2.00778222, 2.00012206, 2.00000191, 2.00000003, 2.        ,\n",
       "       2.        , 2.        , 2.        ,        inf,        inf])"
      ]
     },
     "execution_count": 23,
     "metadata": {},
     "output_type": "execute_result"
    }
   ],
   "source": [
    "# 2.\n",
    "g = lambda x: x**2 / (np.sqrt(x**2 + 1) - 1)\n",
    "g(x)"
   ]
  },
  {
   "attachments": {},
   "cell_type": "markdown",
   "id": "d2fdba80-f537-4c3a-b805-6becbc93407b",
   "metadata": {},
   "source": [
    "### Zadanie 5\n",
    "Rozważmy funkcję $f(x)=\\sin(x)$. Pochodną tej funkcji możemy przybliżyć za pomocą ilorazu różnicowego:\n",
    "$$f^{'}(x)\\approx \\frac{\\sin(x+h)-\\sin(x)}{h}$$ \n",
    "dla małych wartości $h$. Dla $h=10^{-n}$ ($n=1,\\ldots,16)$ i $x=1$ wyznacz błąd tego przybliżenia. \n",
    "\n",
    "Dla jakiej wartości $h$ otrzymane przybliżenie jest najlepsze? \n",
    "\n",
    "Zilustruj wyniki na wykresie, na którym wartości błędu będą prezentowane w skali logarytmicznej.\n"
   ]
  },
  {
   "cell_type": "code",
   "execution_count": 24,
   "id": "6d29e075-a903-45a8-ae7a-66529c5ace7f",
   "metadata": {},
   "outputs": [],
   "source": [
    "x = 1\n",
    "h = np.array([float(f\"1e-{i}\") for i in range(1, 17)])"
   ]
  },
  {
   "cell_type": "code",
   "execution_count": 25,
   "id": "b79da4cd-8242-48d1-a9f4-ccd35725b1b0",
   "metadata": {},
   "outputs": [
    {
     "data": {
      "text/plain": [
       "array([0.49736375, 0.53608598, 0.53988148, 0.54026023, 0.5402981 ,\n",
       "       0.54030189, 0.54030226, 0.54030229, 0.54030236, 0.54030225,\n",
       "       0.54030114, 0.54034555, 0.53956839, 0.54400928, 0.55511151,\n",
       "       0.        ])"
      ]
     },
     "execution_count": 25,
     "metadata": {},
     "output_type": "execute_result"
    }
   ],
   "source": [
    "approx_f_prime = lambda x, h: (np.sin(x+h) - np.sin(x)) / h\n",
    "approx_f_prime(x, h)"
   ]
  },
  {
   "cell_type": "code",
   "execution_count": 26,
   "id": "35b2c319-b94d-45de-bb14-258393e44760",
   "metadata": {},
   "outputs": [
    {
     "data": {
      "text/plain": [
       "0.5403023058681398"
      ]
     },
     "execution_count": 26,
     "metadata": {},
     "output_type": "execute_result"
    }
   ],
   "source": [
    "f_prime = np.cos\n",
    "f_prime(x)"
   ]
  },
  {
   "cell_type": "code",
   "execution_count": 27,
   "id": "f8a8db8a-54ee-4a5c-ab8a-e744719a9be7",
   "metadata": {},
   "outputs": [
    {
     "data": {
      "text/plain": [
       "array([4.29385533e-02, 4.21632486e-03, 4.20825508e-04, 4.20744495e-05,\n",
       "       4.20736228e-06, 4.20746809e-07, 4.18276911e-08, 1.40721155e-08,\n",
       "       5.25412660e-08, 5.84810365e-08, 1.16870406e-06, 4.32402169e-05,\n",
       "       7.33915900e-04, 3.70697620e-03, 1.48092064e-02, 5.40302306e-01])"
      ]
     },
     "execution_count": 27,
     "metadata": {},
     "output_type": "execute_result"
    }
   ],
   "source": [
    "errors = np.abs(f_prime(x) - approx_f_prime(x, h))\n",
    "errors"
   ]
  },
  {
   "cell_type": "code",
   "execution_count": 28,
   "id": "ab39ce69-b1fa-4986-9cb8-cc42c9be813a",
   "metadata": {},
   "outputs": [
    {
     "data": {
      "text/plain": [
       "array([1.e-01, 1.e-02, 1.e-03, 1.e-04, 1.e-05, 1.e-06, 1.e-07, 1.e-08,\n",
       "       1.e-09, 1.e-10, 1.e-11, 1.e-12, 1.e-13, 1.e-14, 1.e-15, 1.e-16])"
      ]
     },
     "execution_count": 28,
     "metadata": {},
     "output_type": "execute_result"
    }
   ],
   "source": [
    "h"
   ]
  },
  {
   "cell_type": "code",
   "execution_count": 29,
   "id": "8acbe5d4-ad6a-4819-8730-4778f708fded",
   "metadata": {},
   "outputs": [
    {
     "data": {
      "image/png": "[encoded data removed]",
      "text/plain": [
       "<Figure size 900x400 with 1 Axes>"
      ]
     },
     "metadata": {},
     "output_type": "display_data"
    }
   ],
   "source": [
    "import matplotlib.pyplot as plt\n",
    "\n",
    "fig, ax = plt.subplots(figsize=(9, 4))\n",
    "ax.plot(h, errors, color=\"red\")\n",
    "ax.set_xlabel(\"h\")\n",
    "ax.set_ylabel(\"Błąd przybliżenia\")\n",
    "ax.set_xscale(\"log\")\n",
    "ax.set_yscale(\"log\")\n",
    "ax.set_xticks(h)\n",
    "plt.show()"
   ]
  },
  {
   "cell_type": "markdown",
   "id": "2593148a-597a-402b-82d4-f1cea6a9aba9",
   "metadata": {},
   "source": [
    "Odpowiedź: Jak widać najlepszy błąd przybliżenia uzyskujemy dla $h = 10^{-8}$"
   ]
  },
  {
   "attachments": {},
   "cell_type": "markdown",
   "id": "915ccb12-2b13-4d33-8d5a-684b8376eafb",
   "metadata": {},
   "source": [
    "## Zadanie 6 (* 2 pkt)\n",
    "Niech $f(x)=\\cos (x)-1=-2\\sin^2(\\frac{x}{2})$. Oblicz wartość podanej funkcji stosując oba podane wzory dla $1000$ wartości $x$ równomiernie rozlożonych w $ (-10^{-7},10^{-7})$ i zilustruj otrzymane wyniki na wykresie. \n",
    "\n",
    "Który wzór wydaje się lepszy? Spróbuj wyjaśnić, dlaczego tak jest.\n",
    "\n",
    "Oba wykresy powinny być narysowane w jednym oknie i rozróżnialne (poprzez zastosowanie różnych kolorów lub stylów linii). Ponadto, proszę umieścić przy wykresach legendę."
   ]
  },
  {
   "cell_type": "code",
   "execution_count": 30,
   "id": "f07a8dac-ea7f-48a5-b0c1-09a280053436",
   "metadata": {},
   "outputs": [],
   "source": [
    "x = np.linspace(-1e-7, 1e-7, int(1e3))\n",
    "f_1 = lambda x: np.cos(x) - 1\n",
    "f_2 = lambda x: -2 * np.sin(x/2)**2"
   ]
  },
  {
   "cell_type": "code",
   "execution_count": 31,
   "id": "5aadbb08-dfd2-4526-ae0d-b0a0df351e16",
   "metadata": {},
   "outputs": [
    {
     "data": {
      "image/png": "[encoded data removed]",
      "text/plain": [
       "<Figure size 640x480 with 1 Axes>"
      ]
     },
     "metadata": {},
     "output_type": "display_data"
    }
   ],
   "source": [
    "fig, ax = plt.subplots()\n",
    "ax.plot(x, f_1(x), color=\"red\", alpha=0.8, label=r\"$f(x)=\\cos (x)-1$\")\n",
    "ax.plot(x, f_2(x), color=\"blue\", alpha=0.8, label=r\"$f(x)=-2\\sin^2(\\frac{x}{2})$\")\n",
    "plt.legend(title='Parameter where:')\n",
    "plt.show()"
   ]
  },
  {
   "cell_type": "markdown",
   "id": "118dd6e0-2947-4812-825e-72766ce830a4",
   "metadata": {},
   "source": [
    "### Zadanie 7 (* 2 pkt)\n",
    "\n",
    "Rozważmy wielomian $w(x)=(x-1)^4=x^4-4x^3+6x^2-4x+1$. \n",
    "\n",
    "Oblicz stosując oba podane wzory wartość tego wielomianu dla $100$ wartości $x$ równomiernie rozłożonych w przedziale $(0.9999,1.0001)$ i zilustruj otrzymane wyniki na wykresie. \n",
    "\n",
    "Który wzór wydaje się lepszy? Spróbuj wyjaśnić, dlaczego tak jest.\n",
    "\n",
    "Oba wykresy powinny być narysowane w jednym oknie i rozróżnialne (poprzez zastosowanie różnych kolorów lub stylów linii). Ponadto, proszę umieścić przy wykresach legendę."
   ]
  },
  {
   "cell_type": "code",
   "execution_count": 32,
   "id": "7fa252bd-8141-450b-a24e-ec0ca52b1dba",
   "metadata": {},
   "outputs": [],
   "source": [
    "x = np.linspace(0.9999, 1.0001, 100)\n",
    "w_1 = lambda x: (x-1)**4\n",
    "w_2 = lambda x: x**4 - 4*x**3 + 6*x**2 - 4*x + 1"
   ]
  },
  {
   "cell_type": "code",
   "execution_count": 33,
   "id": "dca92ba2-b5ed-4dd7-a39d-aae558c2e993",
   "metadata": {},
   "outputs": [
    {
     "data": {
      "image/png": "[encoded data removed]",
      "text/plain": [
       "<Figure size 1000x600 with 1 Axes>"
      ]
     },
     "metadata": {},
     "output_type": "display_data"
    }
   ],
   "source": [
    "fig, ax = plt.subplots(figsize=(10,6))\n",
    "ax.plot(x, w_1(x), color=\"red\", alpha=0.8, label=r\"$w(x)=(x-1)^4$\")\n",
    "ax.plot(x, w_2(x), color=\"blue\", alpha=0.8, label=r\"$w(x)=x^4-4x^3+6x^2-4x+1$\")\n",
    "plt.legend(title='Parameter where:')\n",
    "plt.show()"
   ]
  },
  {
   "cell_type": "markdown",
   "id": "2250dd52-4f7a-4606-958e-c610b75b0e5e",
   "metadata": {},
   "source": [
    "Odpowiedź: Przy postaci ogólnej wielomianu dokonujemy wielu operacji dodawania/odejmowania bliskich sobie liczb co powoduje narastanie błędu poprzez kolejne utraty liczb znaczących, natomiast w postaci iloczynowej odejmowania dokonujemy tylko raz co powoduje relatywnie \n",
    " mniejszy błąd, stąd wzór w postaci iloczynowej zdaje się być lepszy do obliczania w postaci zmiennoprzecinkowej."
   ]
  },
  {
   "cell_type": "markdown",
   "id": "ab266ed7-1f1f-4a89-9981-67c74f9f2df8",
   "metadata": {},
   "source": [
    "# Algorytm Hornera\n",
    "Zauważmy, że wielomian o naturalnej postaci:\n",
    "$$w(x)=\\sum_{i=0}^na_ix^i$$\n",
    "można także zapisać jako:\n",
    "$$w(x)=(\\ldots((a_nx+a_{n-1})x+a_{n-2})x+\\ldots+a_1)x+a_0.$$\n",
    "Z postaci tej wynika sposób obliczania wartości wielomianu w punkcie zwany algorytmem Hornera. Załóżmy, że chcemy obliczyć wartość wielomianu $w(x)$ w punkcie $x_0$. Definiujemy:\n",
    "\\begin{eqnarray}\n",
    "\tw_n&=&a_n,\\nonumber\\\\\n",
    "\tw_i&=&w_{i+1}x_0+a_i,\\; \\text{dla}\\;i=n-1,n-2,\\ldots,0\\nonumber\n",
    "\\end{eqnarray}\n",
    "Wtedy $w(x_0)=w_0$. Obliczając wartość wielomianu w punkcie w ten sposób ograniczamy liczbę mnożeń. Stosując algorytm Hornera możemy także obliczyć wynik dzielenia wielomianu $w(x)$ przez dwumian $x-c$. Jeśli bowiem\n",
    "$$\\sum_{i=0}^na_ix^i=(\\sum_{i=0}^{n-1}b_{i+1}x^i)(x-c)+b_0,$$\n",
    "to porównując współczynniki przy odpowiednich potęgach otrzymujemy zależność $a_i=b_i-b_{i+1}c$ dla $i=0,\\ldots,n-1$ i $a_n=b_n$. Oznacza to, że $b_i=w_i$ dla $i=0,\\ldots,n$.\n",
    "\n",
    "Kolejnym zastosowaniem algorytmu Hornera jest obliczanie wartości pochodnych znormalizowanych w punkcie $x_0$, tzn. wartości:\n",
    "$$\\frac{w^{(j)}(x_0)}{j!} \\text{ dla } j=0,1,\\ldots,n.$$\n",
    "Zapiszmy wielomian $w(x)$ w postaci:\n",
    "$$w(x)=(x-x_0)^jv(x)+r(x),$$\n",
    "gdzie $r(x)$ jest wielomianem o stopniu mniejszym od $j$. Różniczkując to wyrażenie $j$ razy i obliczając jego wartość w punkcie $x_0$ otrzymujemy równość:\n",
    "$$w^{(j)}(x_0)=j!v(x_0).$$\n",
    "\n",
    "Zatem chcąc obliczyć wartość $j$-tej pochodnej znormalizowanej wielomianu wystarczy zastosować algorytm Hornera $j$ razy, żeby podzielić kolejno otrzymywane ilorazy przez $x-x_0$, a następnie obliczyć wartość otrzymanego wielomianu w punkcie $x_0$.\n",
    "\n",
    "Ostatnim omawianym zastosowaniem algorytmu Hornera będzie zamiana liczby zapisanej w systemie pozycyjnym o podstawie $p$ ($p\\neq 10$) na zapis w systemie dziesiętnym. Rozważmy liczbę zapisaną w systemie pozycyjnym o podstawie $p$:\n",
    "$$c_nc_{n-1}\\ldots c_1c_0 \\;_{(p)}=c_np^n+c_{n-1}p^{n-1}+\\ldots+c_1p+c_0.$$\n",
    "Zatem chcąc obliczyć wartość tej liczby w systemie dziesiętnym wystarczy obliczyć wartość wielomianu $w(x)=\\sum_{i=0}^nc_ix^i$ w punkcie $p$.\n",
    "\n",
    "Wielomian możemy też zapisać w tzw. postaci Newtona:\n",
    "\\begin{align*}\n",
    "\tw(x)= \\sum_{k=0}^n b_k\\prod_{j=0}^{k-1}(x-x_j)=b_0+b_1(x-x_0)+b_2(x-x_0)(x-x_1)+\\ldots+b_n(x-x_0)\\cdot\\ldots\\cdot (x-x_{n-1})\n",
    "\\end{align*}\n",
    "Mając dany wielomian w tej postaci możemy w łatwy sposób obliczyć jego wartość w punkcie $s$ korzystając z uogólnionego schematu Hornera:\n",
    "\\begin{eqnarray*}\n",
    "\tp_n&=&b_n\\\\\n",
    "\tp_i&=&p_{i+1}( s-x_i)+b_i, \\text{ dla }i=n-1,n-2,\\ldots,0\n",
    "\\end{eqnarray*}\n"
   ]
  },
  {
   "cell_type": "code",
   "execution_count": 34,
   "id": "6ec5552a-84d3-4270-b6a2-34350c4b8578",
   "metadata": {},
   "outputs": [],
   "source": [
    "from numpy.polynomial import polynomial as P"
   ]
  },
  {
   "attachments": {},
   "cell_type": "markdown",
   "id": "cf365450-4f85-4bef-9292-4a2746ddefd8",
   "metadata": {},
   "source": [
    "### Zadanie 1\n",
    " Stosując polecenie `horner` (w numpy `np.polynomial.polynomial.polyval`) oblicz wartość wielomianu $w(x)$ w punkcie $x_0$ dla:\t\n",
    "1. $w(x)=x^3-2x^2+3x-4$, $x_0=1$,\n",
    "2. $w(x)=8x^3+5x^2+3x+1$, $x_0=-3$."
   ]
  },
  {
   "cell_type": "code",
   "execution_count": 35,
   "id": "01c94891-1510-4798-8ec3-a15a7f8e1ab4",
   "metadata": {},
   "outputs": [
    {
     "data": {
      "text/plain": [
       "-2.0"
      ]
     },
     "execution_count": 35,
     "metadata": {},
     "output_type": "execute_result"
    }
   ],
   "source": [
    "# 1.\n",
    "x0 = 1\n",
    "c = np.array([-4, 3, -2, 1])\n",
    "P.polyval(x0, c)"
   ]
  },
  {
   "cell_type": "code",
   "execution_count": 36,
   "id": "489c84b2-d531-4b50-a202-54c271f97e0d",
   "metadata": {},
   "outputs": [
    {
     "data": {
      "text/plain": [
       "-179.0"
      ]
     },
     "execution_count": 36,
     "metadata": {},
     "output_type": "execute_result"
    }
   ],
   "source": [
    "# 2.\n",
    "x0 = -3\n",
    "c = np.array([1, 3, 5, 8])\n",
    "P.polyval(x0, c)"
   ]
  },
  {
   "cell_type": "markdown",
   "id": "bf9aa854-5e88-4c2d-a955-bf02ab55a32d",
   "metadata": {},
   "source": [
    "### Zadanie 2.\n",
    "Stosując polecenie `pdiv` (w numpy `np.polynomial.polynomial.polydiv`) wyznacz wielomian będacy wynikiem dzielenia wielomianu $w(x)$ przez dwumian $d(x)$:\n",
    "1. $w(x)=2x^3+5x^2-4x+11$, $d(x)=x-2$,\n",
    "2. $w(x)=x^4-9x^2+3x-5$, $d(x)=x+7$.\n"
   ]
  },
  {
   "cell_type": "code",
   "execution_count": 37,
   "id": "07d68ca7-6bc2-47be-bc61-a22484c1eb05",
   "metadata": {},
   "outputs": [
    {
     "data": {
      "text/plain": [
       "(array([14.,  9.,  2.]), array([39.]))"
      ]
     },
     "execution_count": 37,
     "metadata": {},
     "output_type": "execute_result"
    }
   ],
   "source": [
    "# 1.\n",
    "w = (11, -4, 5, 2)\n",
    "d = (-2, 1)\n",
    "q, r = P.polydiv(w, d)\n",
    "q, r"
   ]
  },
  {
   "cell_type": "markdown",
   "id": "6ec83f4f-341d-4616-80d6-2a99ac47325d",
   "metadata": {},
   "source": [
    "1. $q(x) = 2x^2 + 9x + 14$, $r(x) = 39$"
   ]
  },
  {
   "cell_type": "code",
   "execution_count": 38,
   "id": "4b8d2ec4-b4a4-4b58-b2d7-aea3919bf0eb",
   "metadata": {},
   "outputs": [
    {
     "data": {
      "text/plain": [
       "(array([115., -16.,   1.]), array([-810.]))"
      ]
     },
     "execution_count": 38,
     "metadata": {},
     "output_type": "execute_result"
    }
   ],
   "source": [
    "# 2.\n",
    "w = (-5, 3, -9, 1)\n",
    "d = (7, 1)\n",
    "q, r = P.polydiv(w, d)\n",
    "q, r"
   ]
  },
  {
   "cell_type": "markdown",
   "id": "3a81bc03-b83f-4518-89c6-41cf462ed7f4",
   "metadata": {},
   "source": [
    "2. $q(x) = x^2 - 16x + 115$, $r(x) = x + 7$"
   ]
  },
  {
   "cell_type": "markdown",
   "id": "b18ddd4a-db51-4249-820c-2ca56d4b6481",
   "metadata": {},
   "source": [
    "### Zadanie 3.\n",
    "Używając poleceń `horner` i `pdiv` (w numpy `np.polynomial.polynomial.polyval` i `np.polynomial.polynomial.polyval`), znajdź wszystkie pochodne znormalizowane  wielomianu $w(x)$ w punkcie $x_0$:\n",
    "1. $w(x)=x^3+2x^2+4x+8$, $x_0=-2$,\n",
    "2. $w(x)=x^4-x^3+3x-1$, $x_0=2$"
   ]
  },
  {
   "cell_type": "code",
   "execution_count": 39,
   "id": "68a178aa-1e0f-453a-89ed-3881dd3ac1bc",
   "metadata": {},
   "outputs": [],
   "source": [
    "# 1.\n",
    "x_0 = -2\n",
    "w = (8, 4, 2, 1)\n",
    "ds = [\n",
    "    (-x_0, 1), \n",
    "    (4, 4, 1), # (x-x0)^2\n",
    "    (8, 12, 6, 1), # (x-x0)^3\n",
    "]\n",
    "polynomials = [w]\n",
    "for d in ds:\n",
    "    v, _ = P.polydiv(w, d)\n",
    "    polynomials.append(v)"
   ]
  },
  {
   "cell_type": "code",
   "execution_count": 40,
   "id": "bdbe9626-6d04-4c99-85cf-628d6c2f046c",
   "metadata": {},
   "outputs": [],
   "source": [
    "import math\n",
    "\n",
    "normalized_derivative = lambda v, j, x_0: math.factorial(j)*P.polyval(x_0, v)"
   ]
  },
  {
   "cell_type": "code",
   "execution_count": 41,
   "id": "abc66c6a-bd37-4001-89e6-7bf8cb86615b",
   "metadata": {},
   "outputs": [
    {
     "name": "stdout",
     "output_type": "stream",
     "text": [
      "Derivative value at x_0 = -2 of order 0 equals 0.0\n",
      "Derivative value at x_0 = -2 of order 1 equals 8.0\n",
      "Derivative value at x_0 = -2 of order 2 equals -8.0\n",
      "Derivative value at x_0 = -2 of order 3 equals 6.0\n"
     ]
    }
   ],
   "source": [
    "for derivative_order, v in enumerate(polynomials):\n",
    "    print(f\"Derivative value at x_0 = {x_0} of order {derivative_order} equals {normalized_derivative(v, derivative_order, x_0)}\")"
   ]
  },
  {
   "cell_type": "code",
   "execution_count": 42,
   "id": "bdb2a120-a418-47ee-b97b-797c75b58793",
   "metadata": {},
   "outputs": [
    {
     "data": {
      "text/latex": [
       "$\\displaystyle 3 x^{2} + 4 x + 4$"
      ],
      "text/plain": [
       "3*x**2 + 4*x + 4"
      ]
     },
     "execution_count": 42,
     "metadata": {},
     "output_type": "execute_result"
    }
   ],
   "source": [
    "# Lets find derivatives analyticaly \n",
    "import sympy as sp\n",
    "\n",
    "x = sp.symbols('x')\n",
    "w = x**3 + 2*x**2 + 4*x + 8\n",
    "w_1 = w.diff(x)\n",
    "w_1"
   ]
  },
  {
   "cell_type": "code",
   "execution_count": 43,
   "id": "56f939f6-3f05-47fe-a1c2-979336afea4e",
   "metadata": {},
   "outputs": [
    {
     "data": {
      "text/latex": [
       "$\\displaystyle 8$"
      ],
      "text/plain": [
       "8"
      ]
     },
     "execution_count": 43,
     "metadata": {},
     "output_type": "execute_result"
    }
   ],
   "source": [
    "w_1.subs({x: x_0})"
   ]
  },
  {
   "cell_type": "code",
   "execution_count": 44,
   "id": "9afe1af0-66d5-43a9-b3ff-b72dfb082a1e",
   "metadata": {},
   "outputs": [
    {
     "data": {
      "text/latex": [
       "$\\displaystyle 2 \\cdot \\left(3 x + 2\\right)$"
      ],
      "text/plain": [
       "2*(3*x + 2)"
      ]
     },
     "execution_count": 44,
     "metadata": {},
     "output_type": "execute_result"
    }
   ],
   "source": [
    "w_2 = w.diff(x, 2)\n",
    "w_2"
   ]
  },
  {
   "cell_type": "code",
   "execution_count": 45,
   "id": "dbf3f62c-f7c0-499f-a01f-8b6a75a052b0",
   "metadata": {},
   "outputs": [
    {
     "data": {
      "text/latex": [
       "$\\displaystyle -8$"
      ],
      "text/plain": [
       "-8"
      ]
     },
     "execution_count": 45,
     "metadata": {},
     "output_type": "execute_result"
    }
   ],
   "source": [
    "w_2.subs({x: x_0})"
   ]
  },
  {
   "cell_type": "code",
   "execution_count": 46,
   "id": "6017cfdf-a677-42f2-b5fd-e75bff1d20fa",
   "metadata": {},
   "outputs": [
    {
     "data": {
      "text/latex": [
       "$\\displaystyle 6$"
      ],
      "text/plain": [
       "6"
      ]
     },
     "execution_count": 46,
     "metadata": {},
     "output_type": "execute_result"
    }
   ],
   "source": [
    "w_3 = w.diff(x, 3)\n",
    "w_3"
   ]
  },
  {
   "cell_type": "code",
   "execution_count": 47,
   "id": "0b759daf-3a99-437f-b556-2954de81c557",
   "metadata": {},
   "outputs": [
    {
     "data": {
      "text/latex": [
       "$\\displaystyle 6$"
      ],
      "text/plain": [
       "6"
      ]
     },
     "execution_count": 47,
     "metadata": {},
     "output_type": "execute_result"
    }
   ],
   "source": [
    "w_3.subs({x: x_0})"
   ]
  },
  {
   "cell_type": "markdown",
   "id": "b8e3c951-3c1d-4533-a378-3141cfdf1f64",
   "metadata": {},
   "source": [
    "Wygląda na to, że policzyliśmy poprawnie!"
   ]
  },
  {
   "cell_type": "code",
   "execution_count": 48,
   "id": "4f628cbe-3f49-4e99-ae3b-6dfe5db9ad47",
   "metadata": {},
   "outputs": [],
   "source": [
    "# 2.\n",
    "x_0 = 2\n",
    "w = (-1, 3, 0, -1, 1)\n",
    "ds = [\n",
    "    (-x_0, 1),\n",
    "    (4, -4, 1), # (x-x0)^2\n",
    "    (-8, 12, -6, 1), # (x-x0)^3\n",
    "    (16, -32, 24, -8, 1), # (x-x0)^4\n",
    "]\n",
    "polynomials = [w]\n",
    "for d in ds:\n",
    "    v, _ = P.polydiv(w, d)\n",
    "    polynomials.append(v)"
   ]
  },
  {
   "cell_type": "code",
   "execution_count": 49,
   "id": "beca75ab-95d3-4f54-aeb3-3073e93a0ca8",
   "metadata": {},
   "outputs": [
    {
     "name": "stdout",
     "output_type": "stream",
     "text": [
      "Derivative value at x_0 = 2 of order 0 equals 13.0\n",
      "Derivative value at x_0 = 2 of order 1 equals 23.0\n",
      "Derivative value at x_0 = 2 of order 2 equals 36.0\n",
      "Derivative value at x_0 = 2 of order 3 equals 42.0\n",
      "Derivative value at x_0 = 2 of order 4 equals 24.0\n"
     ]
    }
   ],
   "source": [
    "# Jako, że zdefiniowaliśmy już funkcję na znormalizowaną pochodną to możemy jej teraz użyć\n",
    "for derivative_order, v in enumerate(polynomials):\n",
    "    print(f\"Derivative value at x_0 = {x_0} of order {derivative_order} equals {normalized_derivative(v, derivative_order, x_0)}\")"
   ]
  },
  {
   "cell_type": "code",
   "execution_count": 50,
   "id": "7aff33a3-bb33-49ad-a2af-91964e4f6e45",
   "metadata": {},
   "outputs": [
    {
     "data": {
      "text/plain": [
       "(4*x**3 - 3*x**2 + 3, 23)"
      ]
     },
     "execution_count": 50,
     "metadata": {},
     "output_type": "execute_result"
    }
   ],
   "source": [
    "x = sp.symbols('x')\n",
    "w = x**4 - x**3 + 3*x - 1\n",
    "w_1 = w.diff(x)\n",
    "w_1, w_1.subs({x: x_0})"
   ]
  },
  {
   "cell_type": "code",
   "execution_count": 51,
   "id": "16af98a5-6d7a-4e69-910c-85fa48b41c62",
   "metadata": {},
   "outputs": [
    {
     "data": {
      "text/plain": [
       "(6*x*(2*x - 1), 36)"
      ]
     },
     "execution_count": 51,
     "metadata": {},
     "output_type": "execute_result"
    }
   ],
   "source": [
    "w_2 = w.diff(x, 2)\n",
    "w_2, w_2.subs({x: x_0})"
   ]
  },
  {
   "cell_type": "code",
   "execution_count": 52,
   "id": "1b4c2140-a6f0-4ed8-a8f5-bed32dd3764e",
   "metadata": {},
   "outputs": [
    {
     "data": {
      "text/plain": [
       "(6*(4*x - 1), 42)"
      ]
     },
     "execution_count": 52,
     "metadata": {},
     "output_type": "execute_result"
    }
   ],
   "source": [
    "w_3 = w.diff(x, 3)\n",
    "w_3, w_3.subs({x: x_0})"
   ]
  },
  {
   "cell_type": "code",
   "execution_count": 53,
   "id": "07f3a946-c117-4232-a73e-8302826faa5f",
   "metadata": {},
   "outputs": [
    {
     "data": {
      "text/plain": [
       "(24, 24)"
      ]
     },
     "execution_count": 53,
     "metadata": {},
     "output_type": "execute_result"
    }
   ],
   "source": [
    "w_4 = w.diff(x, 4)\n",
    "w_4, w_4.subs({x: x_0})"
   ]
  },
  {
   "cell_type": "markdown",
   "id": "d8fd9a07-4edc-4511-b6ce-e4492b9aaf51",
   "metadata": {},
   "source": [
    "Wygląda na to, że policzyliśmy poprawnie!"
   ]
  },
  {
   "cell_type": "markdown",
   "id": "c74c027b-451c-4590-b7da-cfd92d2c41d5",
   "metadata": {},
   "source": [
    "### Zadanie 4 (* 3 pkt)\n",
    "Napisz funkcję, która dla danej liczby $p$ ($2\\leq p \\leq 9$) i liczby zapisanej w systemie pozycyjnym o podstawie $p$ oblicza jej wartość w systemie dziesiętnym wykorzystując algorytm Hornera.  Zakładamy, że dane wejściowe do funkcji są podane w postaci pary $(c,p)$, gdzie $p$ jest liczbą naturalną z zakresu od $2$ do $9$, a $c$ jest wektorem kolejnych cyfr w zapisie pozycyjnym danej liczby, przy czym pierwsza współrzędna odpowiada współczynnikowi przy potędze liczby $p$ o wykładniku $0$.  \n",
    "\n",
    "Przetestuj tę funkcję na poniższych przykładach:\n",
    "\n",
    "1. $([5,4,3,2,1],6)$,\n",
    "2. $([8,5,3,2,1,1],9)$,\n",
    "3. $([0,1,0,1,1,0,1],2)$.\n",
    "\n",
    "Uwaga! Proszę nie używać wbudowanej funkcji `horner` (w numpy `np.polynomial.polynomial.polyval`)."
   ]
  },
  {
   "cell_type": "code",
   "execution_count": 54,
   "id": "f7251299-c5d9-47e3-83a7-ffc9dc5e7885",
   "metadata": {},
   "outputs": [],
   "source": [
    "def eval_positional_notation(c, p):\n",
    "    value = c[-1]\n",
    "    for c_i in reversed(c[:-1]):\n",
    "        value = value * p + c_i\n",
    "    return value"
   ]
  },
  {
   "cell_type": "code",
   "execution_count": 55,
   "id": "88130c42-ae2d-4019-85df-d89d37d6bf5e",
   "metadata": {},
   "outputs": [
    {
     "data": {
      "text/plain": [
       "1865"
      ]
     },
     "execution_count": 55,
     "metadata": {},
     "output_type": "execute_result"
    }
   ],
   "source": [
    "# 1.\n",
    "c = np.array([5,4,3,2,1])\n",
    "p = 6\n",
    "\n",
    "eval_positional_notation(c, p)"
   ]
  },
  {
   "cell_type": "code",
   "execution_count": 56,
   "id": "b6809fc4-7215-435e-bb8a-8065de810698",
   "metadata": {},
   "outputs": [
    {
     "data": {
      "text/plain": [
       "True"
      ]
     },
     "execution_count": 56,
     "metadata": {},
     "output_type": "execute_result"
    }
   ],
   "source": [
    "eval_positional_notation(c, p) == P.polyval(p, c)"
   ]
  },
  {
   "cell_type": "code",
   "execution_count": 57,
   "id": "50f5564a-3f6a-4385-a6ec-bca3abd0c55d",
   "metadata": {},
   "outputs": [
    {
     "data": {
      "text/plain": [
       "67364"
      ]
     },
     "execution_count": 57,
     "metadata": {},
     "output_type": "execute_result"
    }
   ],
   "source": [
    "# 2.\n",
    "c = np.array([8,5,3,2,1,1])\n",
    "p = 9\n",
    "eval_positional_notation(c, p)"
   ]
  },
  {
   "cell_type": "code",
   "execution_count": 58,
   "id": "1eb172f3-441c-4d34-8dd9-157e58b64d42",
   "metadata": {},
   "outputs": [
    {
     "data": {
      "text/plain": [
       "True"
      ]
     },
     "execution_count": 58,
     "metadata": {},
     "output_type": "execute_result"
    }
   ],
   "source": [
    "eval_positional_notation(c, p) == P.polyval(p, c)"
   ]
  },
  {
   "cell_type": "code",
   "execution_count": 59,
   "id": "210a4261-04e8-4296-ba78-08161dc0b0d2",
   "metadata": {},
   "outputs": [
    {
     "data": {
      "text/plain": [
       "90"
      ]
     },
     "execution_count": 59,
     "metadata": {},
     "output_type": "execute_result"
    }
   ],
   "source": [
    "# 3. \n",
    "c = np.array([0,1,0,1,1,0,1])\n",
    "p = 2\n",
    "eval_positional_notation(c, p)"
   ]
  },
  {
   "cell_type": "code",
   "execution_count": 60,
   "id": "219bd49d-e365-476a-a10b-2b9c6798cb89",
   "metadata": {},
   "outputs": [
    {
     "data": {
      "text/plain": [
       "True"
      ]
     },
     "execution_count": 60,
     "metadata": {},
     "output_type": "execute_result"
    }
   ],
   "source": [
    "eval_positional_notation(c, p) == P.polyval(p, c)"
   ]
  },
  {
   "cell_type": "markdown",
   "id": "eddc3dba-d653-4e18-ab5b-1dacbb5ea031",
   "metadata": {},
   "source": [
    "### Zadanie 5 (* 4 pkt) \n",
    "Napisz funkcję, która korzystając z uogólnionego schematu Hornera dla wektora $n$ różnych punktów $x=[x_0,x_1,\\ldots,x_{n-1}]$, wektora $b=[b_0,b_1,\\ldots,b_n]$  współczynników wielomianu wielomianu $w$ danego w postaci Newtona i wektora punktów $s=[s_1,s_2,\\ldots,s_k]$ zwraca wektor wartości tego wielomianu interpolacyjnego w punktach $s_1,s_2,\\ldots,s_k$. \n",
    "\n",
    "Przetestuj tę funkcję dla następujących danych:\n",
    "1. $x=[2,4,6,8,10]$, $b=[-1,1,2,3,-4,1]$, $s=[3,5,7,9]$,\n",
    "2. $x=[0,0,-1,-1,-1,-2]$, $b=[3,-3,3,-3,2,0,2]$, $s=[-1,-2,0,-1.5,-2.75,5]$."
   ]
  },
  {
   "cell_type": "code",
   "execution_count": 61,
   "id": "72fb1785-fa58-4f28-8422-3ee6ea6d7bc4",
   "metadata": {},
   "outputs": [],
   "source": [
    "def generalized_horner_scheme(x, b, s):\n",
    "    value = b[-1]\n",
    "    for b_i, x_i in zip(reversed(b[:-1]), reversed(x)):\n",
    "        value = value * (s - x_i) + b_i\n",
    "    return value"
   ]
  },
  {
   "cell_type": "code",
   "execution_count": 62,
   "id": "32de1f7d-cdf0-4f43-b219-dca13131a57c",
   "metadata": {},
   "outputs": [
    {
     "data": {
      "text/plain": [
       "array([ 172,  -82,  184, -134])"
      ]
     },
     "execution_count": 62,
     "metadata": {},
     "output_type": "execute_result"
    }
   ],
   "source": [
    "# 1.\n",
    "x = [2, 4, 6, 8, 10]\n",
    "b = [-1, 1, 2, 3, -4, 1]\n",
    "s = np.array([3, 5, 7, 9])\n",
    "\n",
    "generalized_horner_scheme(x, b, s)"
   ]
  },
  {
   "cell_type": "code",
   "execution_count": 63,
   "id": "36a49c90-6a86-450e-82b7-8b6687bac4f9",
   "metadata": {},
   "outputs": [
    {
     "data": {
      "text/plain": [
       "array([9.00000000e+00, 4.10000000e+01, 3.00000000e+00, 1.84687500e+01,\n",
       "       1.80756348e+02, 7.70130000e+04])"
      ]
     },
     "execution_count": 63,
     "metadata": {},
     "output_type": "execute_result"
    }
   ],
   "source": [
    "# 2.\n",
    "x = [0, 0, -1, -1, -1, -2]\n",
    "b = [3, -3, 3, -3, 2, 0, 2]\n",
    "s = np.array([-1, -2, 0, -1.5, -2.75, 5])\n",
    "\n",
    "generalized_horner_scheme(x, b, s)"
   ]
  },
  {
   "cell_type": "code",
   "execution_count": null,
   "id": "4f674f26-10c2-4e3e-9a46-66b17f914dcd",
   "metadata": {},
   "outputs": [],
   "source": []
  }
 ],
 "metadata": {
  "kernelspec": {
   "display_name": "Python 3 (ipykernel)",
   "language": "python",
   "name": "python3"
  },
  "language_info": {
   "codemirror_mode": {
    "name": "ipython",
    "version": 3
   },
   "file_extension": ".py",
   "mimetype": "text/x-python",
   "name": "python",
   "nbconvert_exporter": "python",
   "pygments_lexer": "ipython3",
   "version": "3.10.9"
  }
 },
 "nbformat": 4,
 "nbformat_minor": 5
}
