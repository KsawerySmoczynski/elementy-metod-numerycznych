{
 "cells": [
  {
   "cell_type": "markdown",
   "id": "46a77fa0-d991-414b-a7db-c95698cfad33",
   "metadata": {},
   "source": [
    "# Całkowanie numeryczne\n",
    "## Zadanie 1\n",
    "Znajdź wartości powyższych całek używając funkcji inttrap (scipy.integrate.trapezoid) dla dwóch, trzech i 5 węzłów:\n",
    "\n",
    "1. $\\int_{0}^4 \\frac{x}{x^2+12}dx$\n",
    "2. $\\int_0^{\\frac{\\pi}{2}}x^2\\sin xdx$\n",
    "3. $\\int_1^{3}2^{x^2-3x+1}dx$\n",
    "\n",
    "Oszacuj błąd otrzymanych przybliżeń."
   ]
  },
  {
   "cell_type": "code",
   "execution_count": 2,
   "id": "56b22fad-ec72-4ed1-9211-ef76b5ec4b91",
   "metadata": {},
   "outputs": [],
   "source": [
    "from typing import Callable\n",
    "import numpy as np\n",
    "import scipy as sp\n",
    "\n",
    "\n",
    "n = [2, 3, 5]\n",
    "def trapezoid_n_integrations(f:Callable, a:float, b:float, n:list):\n",
    "    ys = []\n",
    "    for ni in n:\n",
    "        x = np.linspace(a, b, ni)\n",
    "        y = sp.integrate.trapezoid(f(x), x)\n",
    "        ys.append(y)\n",
    "    return ys"
   ]
  },
  {
   "cell_type": "code",
   "execution_count": 3,
   "id": "4c1d27b5-b74a-4614-8f88-200f040d1f88",
   "metadata": {},
   "outputs": [
    {
     "data": {
      "text/plain": [
       "[0.4, 0.45, 0.4630952380952381]"
      ]
     },
     "execution_count": 3,
     "metadata": {},
     "output_type": "execute_result"
    }
   ],
   "source": [
    "# 1\n",
    "a = 0\n",
    "b = 4\n",
    "f = lambda x: x / (x*2 + 12)\n",
    "trapezoid_n_integrations(f, a, b, n)"
   ]
  },
  {
   "cell_type": "code",
   "execution_count": 4,
   "id": "3722df74-7629-485a-b104-244ad4ff8791",
   "metadata": {},
   "outputs": [
    {
     "data": {
      "text/plain": [
       "[1.9378922925187385, 1.3115203415716554, 1.1824792489570735]"
      ]
     },
     "execution_count": 4,
     "metadata": {},
     "output_type": "execute_result"
    }
   ],
   "source": [
    "# 2\n",
    "a = 0\n",
    "b = np.pi / 2 \n",
    "f = lambda x: x**2*np.sin(x)\n",
    "x = np.linspace(a, b)\n",
    "trapezoid_n_integrations(f, a, b, n)"
   ]
  },
  {
   "cell_type": "code",
   "execution_count": 5,
   "id": "1034004d-2b41-45ee-8747-961fa4fd74e4",
   "metadata": {},
   "outputs": [
    {
     "data": {
      "text/plain": [
       "[2.5, 1.75, 1.5056723114402857]"
      ]
     },
     "execution_count": 5,
     "metadata": {},
     "output_type": "execute_result"
    }
   ],
   "source": [
    "# 3\n",
    "a = 1\n",
    "b = 3\n",
    "f = lambda x: 2**(x**2 - 3*x + 1)\n",
    "trapezoid_n_integrations(f, a, b, n)"
   ]
  },
  {
   "cell_type": "markdown",
   "id": "6c2b522b-70be-480d-8880-fc46c94b7b64",
   "metadata": {},
   "source": [
    "## Zadanie 2\n",
    "(3 pkt) Napisz funkcję **Simpson**, która dla danej funkcji $f$ oraz liczb $a$, $b$ będacych krańcami pewnego przedziału i liczby naturalnej $N$ wylicza przybliżoną wartość całki $\\int_a^b f(x)dx$ stosując złożoną kwadraturę Simpsona i podział przedziału $[a,b]$ na $N$ równych części."
   ]
  },
  {
   "cell_type": "code",
   "execution_count": 6,
   "id": "fd654e6b-a155-4c6c-b0ba-1dc4f588fada",
   "metadata": {},
   "outputs": [
    {
     "data": {
      "text/plain": [
       "2.0"
      ]
     },
     "execution_count": 6,
     "metadata": {},
     "output_type": "execute_result"
    }
   ],
   "source": [
    "def simpson(f, a, b, n):\n",
    "    h = (b-a) / n\n",
    "    x1 = np.full(n-1, a) + np.linspace(h, (n-1)*h, (n-1))\n",
    "    x2 = np.r_[np.array([a]), x1.copy()] + h / 2\n",
    "    return (h / 6) * (f(a) + 2 * np.sum(f(x1)) + 4 * np.sum(f(x2)) + f(b))\n",
    "\n",
    "f = lambda x: x**1\n",
    "simpson(f, 0, 2, 100)"
   ]
  },
  {
   "cell_type": "markdown",
   "id": "8c24ac8d-6b97-4f3b-a193-e942002f4768",
   "metadata": {},
   "source": [
    "## Zadanie 3\n",
    "(2 pkt) Oblicz wartości poniższych całek, używając złożonych wzorów trapezów i Simpsona dla $N\\in \\{2,3,\\ldots,10\\}$. Oblicz błędy względne otrzymanych przybliżeń. Dla każdej z tych całek narysuj na jednym wykresie błędy otrzymane w wyniku stosowania obu tych wzorów w zależności od $N$. Zastosuj skalę logarytmiczną dla tych wartości. Dodaj tytuł i legendę do wykresów.\n",
    "1. $\\int_2^5 \\frac{\\ln\\ln x}{x}dx$,\n",
    "2. $\\int_0^1\\frac{1}{1+x^2}dx$."
   ]
  },
  {
   "cell_type": "code",
   "execution_count": 18,
   "id": "8810d785-36d4-4791-a5a5-c0156ad3c131",
   "metadata": {},
   "outputs": [],
   "source": [
    "import sympy\n",
    "n = np.arange(2,11)"
   ]
  },
  {
   "cell_type": "code",
   "execution_count": 19,
   "id": "77c0819f-b563-4ac8-9afd-3ef1187297b2",
   "metadata": {},
   "outputs": [
    {
     "data": {
      "text/latex": [
       "$\\displaystyle \\log{\\left(x \\right)} \\log{\\left(\\log{\\left(x \\right)} \\right)} - \\log{\\left(x \\right)}$"
      ],
      "text/plain": [
       "log(x)*log(log(x)) - log(x)"
      ]
     },
     "execution_count": 19,
     "metadata": {},
     "output_type": "execute_result"
    }
   ],
   "source": [
    "# 1\n",
    "a = 2\n",
    "b = 5\n",
    "f = lambda x: np.log(np.log(x)) / x\n",
    "\n",
    "x = sympy.Symbol('x')\n",
    "sympy.integrate(sympy.log(sympy.log(x)) / x, x)"
   ]
  },
  {
   "cell_type": "code",
   "execution_count": 20,
   "id": "5e83e60e-5414-4f05-9aae-67e94e0e46f4",
   "metadata": {},
   "outputs": [
    {
     "data": {
      "text/plain": [
       "0.10366401910379308"
      ]
     },
     "execution_count": 20,
     "metadata": {},
     "output_type": "execute_result"
    }
   ],
   "source": [
    "F = lambda x: np.log(x)*(np.log(np.log(x)) - 1)\n",
    "true_x = F(b) - F(a)\n",
    "true_x"
   ]
  },
  {
   "cell_type": "code",
   "execution_count": 21,
   "id": "39cab96b-a626-4705-a72f-889fc0716291",
   "metadata": {},
   "outputs": [
    {
     "data": {
      "text/plain": [
       "array([0.23578321, 0.07314441, 0.03469591, 0.02006387, 0.01302358,\n",
       "       0.00911791, 0.00673296, 0.00517234, 0.0040964 ])"
      ]
     },
     "execution_count": 21,
     "metadata": {},
     "output_type": "execute_result"
    }
   ],
   "source": [
    "trapezoid_output = np.array(trapezoid_n_integrations(f, a, b, n))\n",
    "trapezoid_errors = np.abs(trapezoid_output - true_x)\n",
    "trapezoid_errors"
   ]
  },
  {
   "cell_type": "code",
   "execution_count": 22,
   "id": "b9d85412-f403-44d5-9579-361982c56ce0",
   "metadata": {},
   "outputs": [
    {
     "data": {
      "text/plain": [
       "array([2.37035818e-03, 5.91911016e-04, 2.08490445e-04, 9.04579457e-05,\n",
       "       4.51431635e-05, 2.49069766e-05, 1.48179545e-05, 9.34806168e-06,\n",
       "       6.18034620e-06])"
      ]
     },
     "execution_count": 22,
     "metadata": {},
     "output_type": "execute_result"
    }
   ],
   "source": [
    "simpson_output = np.array([simpson(f, a, b, ni) for ni in n])\n",
    "simpson_errors = np.abs(simpson_output - true_x)\n",
    "simpson_errors"
   ]
  },
  {
   "cell_type": "code",
   "execution_count": 316,
   "id": "447e589f-7cc1-40f8-936e-6629ec16c89c",
   "metadata": {},
   "outputs": [
    {
     "data": {
      "image/png": "[encoded data removed]",
      "text/plain": [
       "<Figure size 640x480 with 1 Axes>"
      ]
     },
     "metadata": {},
     "output_type": "display_data"
    }
   ],
   "source": [
    "import matplotlib.pyplot as plt\n",
    "\n",
    "fix, ax = plt.subplots()\n",
    "ax.plot(n, trapezoid_errors, c=\"r\", label=\"trapezoid errors\")\n",
    "ax.plot(n, simpson_errors, c=\"b\", label=\"simpson errors\")\n",
    "ax.set_xlabel(\"n\")\n",
    "ax.set_ylabel(\"Błąd przybliżenia\")\n",
    "# ax.set_xscale(\"log\")\n",
    "ax.set_yscale(\"log\")\n",
    "# ax.set_xticks(h)\n",
    "ax.legend()\n",
    "plt.show()"
   ]
  },
  {
   "cell_type": "markdown",
   "id": "891de80f",
   "metadata": {},
   "source": [
    "2. $\\int_0^1\\frac{1}{1+x^2}dx$."
   ]
  },
  {
   "cell_type": "code",
   "execution_count": 24,
   "id": "6752f939-510f-490e-9c61-38c2cfab37c5",
   "metadata": {},
   "outputs": [
    {
     "data": {
      "text/latex": [
       "$\\displaystyle \\operatorname{atan}{\\left(x \\right)}$"
      ],
      "text/plain": [
       "atan(x)"
      ]
     },
     "execution_count": 24,
     "metadata": {},
     "output_type": "execute_result"
    }
   ],
   "source": [
    "# 2\n",
    "a = 0\n",
    "b = 1\n",
    "f = lambda x: 1/ (1 + x**2)\n",
    "\n",
    "x = sympy.Symbol('x')\n",
    "sympy.integrate(1 / (1 + x ** 2), x)"
   ]
  },
  {
   "cell_type": "code",
   "execution_count": 25,
   "id": "21508985",
   "metadata": {},
   "outputs": [
    {
     "data": {
      "text/plain": [
       "0.7853981633974483"
      ]
     },
     "execution_count": 25,
     "metadata": {},
     "output_type": "execute_result"
    }
   ],
   "source": [
    "F = lambda x: np.arctan(x)\n",
    "true_x = F(b) - F(a)\n",
    "true_x"
   ]
  },
  {
   "cell_type": "code",
   "execution_count": 26,
   "id": "771631de",
   "metadata": {},
   "outputs": [
    {
     "data": {
      "text/plain": [
       "array([0.03539816, 0.01039816, 0.00462893, 0.00260405, 0.00166663,\n",
       "       0.0011574 , 0.00085034, 0.00065104, 0.0005144 ])"
      ]
     },
     "execution_count": 26,
     "metadata": {},
     "output_type": "execute_result"
    }
   ],
   "source": [
    "trapezoid_output = np.array(trapezoid_n_integrations(f, a, b, n))\n",
    "trapezoid_errors = np.abs(trapezoid_output - true_x)\n",
    "trapezoid_errors"
   ]
  },
  {
   "cell_type": "code",
   "execution_count": 27,
   "id": "46084372",
   "metadata": {},
   "outputs": [
    {
     "data": {
      "text/plain": [
       "array([6.00653470e-06, 2.18163438e-07, 3.77827716e-08, 9.91264448e-09,\n",
       "       3.32110339e-09, 1.31728461e-09, 5.91242832e-10, 2.91656033e-10,\n",
       "       1.55002011e-10])"
      ]
     },
     "execution_count": 27,
     "metadata": {},
     "output_type": "execute_result"
    }
   ],
   "source": [
    "simpson_output = np.array([simpson(f, a, b, ni) for ni in n])\n",
    "simpson_errors = np.abs(simpson_output - true_x)\n",
    "simpson_errors"
   ]
  },
  {
   "cell_type": "code",
   "execution_count": 28,
   "id": "3e04cc9b",
   "metadata": {},
   "outputs": [
    {
     "data": {
      "image/png": "[encoded data removed]",
      "text/plain": [
       "<Figure size 640x480 with 1 Axes>"
      ]
     },
     "metadata": {},
     "output_type": "display_data"
    }
   ],
   "source": [
    "import matplotlib.pyplot as plt\n",
    "\n",
    "fix, ax = plt.subplots()\n",
    "ax.plot(n, trapezoid_errors, c=\"r\", label=\"trapezoid errors\")\n",
    "ax.plot(n, simpson_errors, c=\"b\", label=\"simpson errors\")\n",
    "ax.set_xlabel(\"n\")\n",
    "ax.set_ylabel(\"Błąd przybliżenia\")\n",
    "# ax.set_xscale(\"log\")\n",
    "ax.set_yscale(\"log\")\n",
    "# ax.set_xticks(h)\n",
    "plt.show()"
   ]
  },
  {
   "cell_type": "markdown",
   "id": "71945bb8-1384-4eea-a72a-96f5bdff249c",
   "metadata": {},
   "source": [
    "# Rozwiązywanie równań nieliniowych"
   ]
  },
  {
   "cell_type": "markdown",
   "id": "d32006a9-9ad2-4f34-afe5-0de7c217d5d4",
   "metadata": {},
   "source": [
    "## Zadanie 1\n",
    "(3 pkt) Napisz funkcję **bisekcja**, która dla danych punktów $a,b$, funkcji $f$ i parametrów związanych z kryteriami stopu $M,\\delta,\\varepsilon$ znajduje przybliżenie zera tej funkcji w przedziale $[a,b]$ metodą bisekcji."
   ]
  },
  {
   "cell_type": "code",
   "execution_count": 113,
   "id": "c7551b06-782e-4f72-b615-8126e685f88d",
   "metadata": {},
   "outputs": [
    {
     "data": {
      "text/plain": [
       "(-0.99755859375, 10)"
      ]
     },
     "execution_count": 113,
     "metadata": {},
     "output_type": "execute_result"
    }
   ],
   "source": [
    "def bisekcja(f:Callable[[float], float], a:float, b:float, M:int, delta:float, epsilon:float) -> float:\n",
    "    y = a\n",
    "    z = b\n",
    "    x_k = float(\"inf\")\n",
    "    for n in range(M+1):\n",
    "        x_k1 = (y + z) / 2\n",
    "        if f(x_k1)*f(y) < 0:\n",
    "            z = x_k1\n",
    "        elif f(x_k1)*f(z) < 0:\n",
    "            y = x_k1\n",
    "        if abs(f(x_k1)) < delta or abs(x_k-x_k1) < epsilon:\n",
    "            break\n",
    "        x_k = x_k1\n",
    "    return x_k1, n\n",
    "\n",
    "f = lambda x: x + 1\n",
    "a = -5\n",
    "b = 2\n",
    "M = 10\n",
    "delta = 1e-20\n",
    "epsilon = 1e-20\n",
    "\n",
    "bisekcja(f, a, b, M, delta, epsilon)"
   ]
  },
  {
   "cell_type": "markdown",
   "id": "01a4e345-e032-4c84-a62e-5aafb23109b3",
   "metadata": {},
   "source": [
    "## Zadanie 2\n",
    "\n",
    "(3 pkt) Napisz funkcję **styczne**, która dla danego punktu $x_0$, funkcji $f$ i parametrów związanych z kryteriami stopu $M,\\delta,\\varepsilon$ znajduje przybliżenie zera tej funkcji metodą Newtona."
   ]
  },
  {
   "cell_type": "code",
   "execution_count": 280,
   "id": "657b1e02-2786-41ab-852f-968d5aaffcd9",
   "metadata": {},
   "outputs": [
    {
     "data": {
      "text/plain": [
       "(1.0, 1)"
      ]
     },
     "execution_count": 280,
     "metadata": {},
     "output_type": "execute_result"
    }
   ],
   "source": [
    "def styczna(f: Callable[[float], float], x_0:float, M:int, delta:float, epsilon:float, f_prime: Callable[[float], float] = None) -> float:\n",
    "    def _get_f_prime():\n",
    "        sympy_f_prime = sympy.diff(f(sympy.Symbol(\"x\")))\n",
    "        return lambda x: float(sympy_f_prime.evalf(subs={\"x\": x}))\n",
    "    f_prime = f_prime or _get_f_prime()\n",
    "    \n",
    "    x_k = x_0\n",
    "    for n in range(M+1):\n",
    "        try:\n",
    "            x_k1 = f(x_k) /  f_prime(x_k)\n",
    "        except ZeroDivisionError:\n",
    "            # if derivative is equal to 0 we will divide by zero, let's move away a bit\n",
    "            x_k += np.sign(x_k) * epsilon\n",
    "            continue\n",
    "        if abs(f(x_k1)) < delta or abs(x_k-x_k1) < epsilon:\n",
    "            break\n",
    "        x_k = x_k1\n",
    "    \n",
    "    return x_k1, n\n",
    "\n",
    "f = lambda x: 4 - x ** 2\n",
    "f_prime = lambda x: 2*x\n",
    "f = np.exp\n",
    "f_prime = np.exp\n",
    "x_0 = -1e-2\n",
    "M = 100_000_000\n",
    "delta = 1e-10000\n",
    "epsilon = 1e-7\n",
    "\n",
    "styczna(f, x_0, M, delta, epsilon, f_prime)\n",
    "# Metoda jest niestabilna"
   ]
  },
  {
   "cell_type": "markdown",
   "id": "1dab2731-f691-4002-b978-f8daf5184872",
   "metadata": {},
   "source": [
    "## Zadanie 3\n",
    "(3 pkt) Napisz funkcję **sieczne**, która dla danych punktów $x_0,x_1$, funkcji $f$ i parametrów związanych z kryteriami stopu $M,\\delta,\\varepsilon$ znajduje przybliżenie zera tej funkcji metodą siecznych."
   ]
  },
  {
   "cell_type": "code",
   "execution_count": 281,
   "id": "c56264c6",
   "metadata": {},
   "outputs": [
    {
     "data": {
      "text/plain": [
       "(2.0, 0)"
      ]
     },
     "execution_count": 281,
     "metadata": {},
     "output_type": "execute_result"
    }
   ],
   "source": [
    "def sieczna(f:Callable[[float], float], x_0:float, x_1:float, M:int, delta:float, epsilon:float) -> float:\n",
    "    # TODO https://pl.wikipedia.org/wiki/Metoda_siecznych#Modyfikacja \n",
    "    if f(x_0) == f(x_1):\n",
    "        raise ValueError(\"Function value for x_0 and x_1 is equal, adjust values\")\n",
    "    x_k_1 = x_0\n",
    "    x_k = x_1\n",
    "    for n in range(M+1):\n",
    "        f_k = f(x_k)\n",
    "        f_k_1 = f(x_k_1)\n",
    "        # if f_k * f_k_1 > 0:\n",
    "        #     raise ArithmeticError(\"Method won't converge\")\n",
    "        x_k1 = x_k - ((x_k - x_k_1) / (f_k - f_k_1)) * f_k\n",
    "        x_k_1 = x_k\n",
    "        x_k = x_k1\n",
    "        if abs(f(x_k)) < delta or abs(x_k_1-x_k) < epsilon:\n",
    "            break\n",
    "    return x_k1, n\n",
    "\n",
    "f = lambda x: x ** 2 - 4\n",
    "x_0 = 3\n",
    "x_1 = 2\n",
    "M = 10\n",
    "delta = 1e-5\n",
    "epsilon = 1e-5\n",
    "\n",
    "sieczna(f, x_0, x_1, M, delta, epsilon)"
   ]
  },
  {
   "cell_type": "markdown",
   "id": "c5659ab5-5c73-4ce1-be94-10f205d8b617",
   "metadata": {},
   "source": [
    "## Zadanie 4\n",
    "(2 pkt) Znajdź przybliżoną wartość $\\sqrt[4]{4}$ stosując metody bisekcji, stycznych i siecznych z dokładnością $\\varepsilon\\in\\{2^{-5},2^{-6},\\ldots,2^{-15}\\}$. Porównaj szybkość zbieżności (liczbę iteracji) potrzebnych do uzyskania zadowalającego przybliżenia w zależności od $\\varepsilon$. Przedstaw wyniki na wykresie. Do wykresu dodaj tytuł i legendę."
   ]
  },
  {
   "cell_type": "code",
   "execution_count": 310,
   "id": "0aee3f1c-8106-4622-81c8-c5e3a8e8e09b",
   "metadata": {},
   "outputs": [
    {
     "name": "stdout",
     "output_type": "stream",
     "text": [
      "Epsilon 0.03125 done\n",
      "Epsilon 0.01562 done\n",
      "Epsilon 0.00781 done\n",
      "Epsilon 0.00391 done\n",
      "Epsilon 0.00195 done\n",
      "Epsilon 0.00098 done\n",
      "Epsilon 0.00049 done\n",
      "Epsilon 0.00024 done\n",
      "Epsilon 0.00012 done\n",
      "Epsilon 0.00006 done\n",
      "Epsilon 0.00003 done\n"
     ]
    }
   ],
   "source": [
    "epsilons = np.power(2., -np.arange(5, 16))\n",
    "\n",
    "f = lambda x: x ** 2 - 2\n",
    "# f = lambda x: 4 * np.log(x) - np.log(4)\n",
    "f_prime = lambda x: 2*x\n",
    "# f_prime = lambda x: 4 / x\n",
    "\n",
    "bisekcje = []\n",
    "styczne = []\n",
    "sieczne = []\n",
    "x_0 = -1\n",
    "x_1 = 2\n",
    "M = 30\n",
    "delta = np.finfo(np.float32).eps # minimalna mozliwa delta, aby warunkiem stopu bylo albo M albo epsilon\n",
    "\n",
    "for epsilon in epsilons:\n",
    "    bisekcje.append(bisekcja(f, x_0, x_1, M, delta, epsilon))\n",
    "    # print(\"bisekcja\")\n",
    "    styczne.append(styczna(f, x_0, M, delta, epsilon, f_prime))\n",
    "    # print(\"styczna\")\n",
    "    sieczne.append(sieczna(f, x_0, x_1, M, delta, epsilon))\n",
    "    # print(\"sieczna\")\n",
    "    print(f\"Epsilon {epsilon:.5f} done\")\n"
   ]
  },
  {
   "cell_type": "code",
   "execution_count": 311,
   "id": "ae6e1999",
   "metadata": {},
   "outputs": [
    {
     "data": {
      "text/plain": [
       "(1.4140625, 1.42578125, 0.003468398596803355)"
      ]
     },
     "execution_count": 311,
     "metadata": {},
     "output_type": "execute_result"
    }
   ],
   "source": [
    "np.min(np.array(bisekcje)[:,:1]), np.max(np.array(bisekcje)[:,:1]), np.std(np.array(bisekcje)[:,:1])"
   ]
  },
  {
   "cell_type": "code",
   "execution_count": 312,
   "id": "6418fb29",
   "metadata": {},
   "outputs": [
    {
     "data": {
      "text/plain": [
       "(-0.8302294422420144, -0.8302294422420144, 1.1102230246251565e-16)"
      ]
     },
     "execution_count": 312,
     "metadata": {},
     "output_type": "execute_result"
    }
   ],
   "source": [
    "np.min(np.array(styczne)[:,:1]), np.max(np.array(styczne)[:,:1]), np.std(np.array(styczne)[:,:1])"
   ]
  },
  {
   "cell_type": "code",
   "execution_count": 313,
   "id": "70ce6cd8",
   "metadata": {},
   "outputs": [
    {
     "data": {
      "text/plain": [
       "(1.41421143847487, 1.4146341463414633, 0.00016267492091835448)"
      ]
     },
     "execution_count": 313,
     "metadata": {},
     "output_type": "execute_result"
    }
   ],
   "source": [
    "np.min(np.array(sieczne)[:,:1]), np.max(np.array(sieczne)[:,:1]), np.std(np.array(sieczne)[:,:1])"
   ]
  },
  {
   "cell_type": "code",
   "execution_count": 314,
   "id": "e8435773",
   "metadata": {},
   "outputs": [
    {
     "data": {
      "text/plain": [
       "(array([ 6.,  7.,  8.,  9., 10., 11., 12., 13., 14., 15., 16.]),\n",
       " array([30., 30., 30., 30., 30., 30., 30., 30., 30., 30., 30.]),\n",
       " array([5., 5., 6., 6., 6., 6., 6., 7., 7., 7., 7.]))"
      ]
     },
     "execution_count": 314,
     "metadata": {},
     "output_type": "execute_result"
    }
   ],
   "source": [
    "n_bisekcje = np.array(bisekcje)[:, 1] \n",
    "n_styczne = np.array(styczne)[:, 1]\n",
    "n_sieczne = np.array(sieczne)[:, 1]\n",
    "n_bisekcje, n_styczne, n_sieczne"
   ]
  },
  {
   "cell_type": "code",
   "execution_count": 340,
   "id": "e58ac17d",
   "metadata": {},
   "outputs": [
    {
     "data": {
      "image/png": "[encoded data removed]",
      "text/plain": [
       "<Figure size 1500x600 with 1 Axes>"
      ]
     },
     "metadata": {},
     "output_type": "display_data"
    }
   ],
   "source": [
    "import matplotlib.pyplot as plt\n",
    "\n",
    "fix, ax = plt.subplots(figsize=(15, 6))\n",
    "ax.plot(epsilons, n_bisekcje, c=\"r\", label=\"bisekcje\")\n",
    "ax.plot(epsilons, n_styczne, c=\"g\", label=\"styczne\")\n",
    "ax.plot(epsilons, n_sieczne, c=\"b\", label=\"sieczne\")\n",
    "ax.set_xlabel(\"Epsilon\")\n",
    "ax.set_ylabel(\"n - ilość kroków przed osiągnięciem warunku stopu\")\n",
    "ax.set_xscale(\"log\")\n",
    "ax.legend()\n",
    "ax.set_xticks(list(reversed(epsilons)))\n",
    "ax.set_xticklabels([fr\"$2^{{{j:.0f}}}$\" for j in reversed(np.log2(epsilons))])\n",
    "plt.show()"
   ]
  },
  {
   "cell_type": "markdown",
   "id": "b9ed7eb9",
   "metadata": {},
   "source": [
    "Metoda stycznych nie zbiega, jak widać dla metody siecznych oraz bisekcji, wraz ze zmniejszaniem epsilona wzrasta ilość wymaganych kroków do wykonania.\n",
    "Dla metody bisekcji "
   ]
  }
 ],
 "metadata": {
  "kernelspec": {
   "display_name": "Python 3 (ipykernel)",
   "language": "python",
   "name": "python3"
  },
  "language_info": {
   "codemirror_mode": {
    "name": "ipython",
    "version": 3
   },
   "file_extension": ".py",
   "mimetype": "text/x-python",
   "name": "python",
   "nbconvert_exporter": "python",
   "pygments_lexer": "ipython3",
   "version": "3.10.9"
  }
 },
 "nbformat": 4,
 "nbformat_minor": 5
}
